{
 "cells": [
  {
   "cell_type": "code",
   "execution_count": 133,
   "metadata": {},
   "outputs": [],
   "source": [
    "from nltk import ngrams\n",
    "from nltk import FreqDist\n",
    "from math import e\n",
    "from math import log\n",
    "from pythainlp import word_tokenize\n",
    "from nltk.corpus import wordnet\n",
    "import numpy as np\n",
    "import random\n",
    "import re"
   ]
  },
  {
   "cell_type": "markdown",
   "metadata": {},
   "source": [
    "## Corpus"
   ]
  },
  {
   "cell_type": "markdown",
   "metadata": {},
   "source": [
    "### Thai Corpus"
   ]
  },
  {
   "cell_type": "markdown",
   "metadata": {},
   "source": [
    "1. wordnet"
   ]
  },
  {
   "cell_type": "code",
   "execution_count": 2,
   "metadata": {},
   "outputs": [
    {
     "data": {
      "text/plain": [
       "75582"
      ]
     },
     "execution_count": 2,
     "metadata": {},
     "output_type": "execute_result"
    }
   ],
   "source": [
    "from pythainlp.corpus.wordnet import all_lemma_names\n",
    "len(list(all_lemma_names()))\n",
    "thai_corpus = [word for word in list(all_lemma_names())\n",
    "               if word[0].isalpha()\n",
    "               and '-' not in word \n",
    "               and '.' not in word\n",
    "               and '_' not in word]\n",
    "len(thai_corpus)"
   ]
  },
  {
   "cell_type": "markdown",
   "metadata": {},
   "source": [
    "2. Not word"
   ]
  },
  {
   "cell_type": "code",
   "execution_count": 3,
   "metadata": {},
   "outputs": [],
   "source": [
    "thai_not_word = [\"กฟกพๆๆไำๆ\", \"ายนดาาหทอปแๆ\", \"เนกดเดนกยเ\", \"พไำพพจจไพๆำ\", \"-ภคพัำไรพ\",\n",
    "          \"ถภนยบๆ\", \"หทอปแ\", \"สบกยำวส\", \"กกำหกอแปอ\", \"อแปทอปแดรีน\",\n",
    "          \"อแปอาวสกด\", \"แผปแวฟกำบ\", \"นยบพ\", \"พไำพพจจไพๆำ\", \"ภคพัำไรพ\",\n",
    "          \"ปผอแิทม\", \"สมไำพทา\", \"ฟมสนะวหด\", \"นหกดมสยวปากด\" , \"นดาหกสทฟก\",\n",
    "          \"ดาพนฟทเ\", \"กฟหก่าอปท\", \"ยนตพจยหนยุขน\", \"พนงรจตกมด\", \"ภคตจกดดทมกด่สว\" ]"
   ]
  },
  {
   "cell_type": "markdown",
   "metadata": {},
   "source": [
    "3. Wiki"
   ]
  },
  {
   "cell_type": "code",
   "execution_count": 149,
   "metadata": {},
   "outputs": [],
   "source": [
    "text = open('wiki.txt', mode='r', encoding='utf-8')\n",
    "wiki = word_tokenize(text.read(), engine=\"attacut\")\n",
    "wiki = [w for w in wiki if w != ' '\n",
    "                        and re.sub('[^\\u0E00-\\u0E7F0]+', '', w)\n",
    "                        and w[0] != \" \"]"
   ]
  },
  {
   "cell_type": "markdown",
   "metadata": {},
   "source": [
    "### Eng Corpus"
   ]
  },
  {
   "cell_type": "code",
   "execution_count": 6,
   "metadata": {},
   "outputs": [
    {
     "data": {
      "text/plain": [
       "77578"
      ]
     },
     "execution_count": 6,
     "metadata": {},
     "output_type": "execute_result"
    }
   ],
   "source": [
    "eng_corpus = [word for word in list(wordnet.all_lemma_names())\n",
    "              if word[0].isalpha()\n",
    "              and '-' not in word \n",
    "              and '.' not in word\n",
    "              and '_' not in word]\n",
    "len(eng_corpus)"
   ]
  },
  {
   "cell_type": "markdown",
   "metadata": {},
   "source": [
    "## Generate Trigrams"
   ]
  },
  {
   "cell_type": "markdown",
   "metadata": {},
   "source": [
    "1. wordnet"
   ]
  },
  {
   "cell_type": "code",
   "execution_count": 23,
   "metadata": {},
   "outputs": [],
   "source": [
    "thai_trigrams_wordnet_list = [tri for word in thai_corpus \n",
    "                                 for tri in list(ngrams(word, 3, \n",
    "                                                pad_left=True,\n",
    "                                                pad_right=True, \n",
    "                                                left_pad_symbol='<s>',\n",
    "                                                right_pad_symbol='</s>'))]"
   ]
  },
  {
   "cell_type": "markdown",
   "metadata": {},
   "source": [
    "2. not word"
   ]
  },
  {
   "cell_type": "code",
   "execution_count": 26,
   "metadata": {},
   "outputs": [],
   "source": [
    "thai_not_word_list = [tri for word in thai_not_word \n",
    "                         for tri in list(ngrams(word, 3, \n",
    "                                                pad_left=True,\n",
    "                                                pad_right=True, \n",
    "                                                left_pad_symbol='<s>',\n",
    "                                                right_pad_symbol='</s>'))]"
   ]
  },
  {
   "cell_type": "markdown",
   "metadata": {},
   "source": [
    "3. Wiki"
   ]
  },
  {
   "cell_type": "code",
   "execution_count": 30,
   "metadata": {},
   "outputs": [],
   "source": [
    "thai_wiki_list = [tri for word in wiki \n",
    "                      for tri in list(ngrams(word, 3, \n",
    "                                             pad_left=True,\n",
    "                                             pad_right=True, \n",
    "                                             left_pad_symbol='<s>',\n",
    "                                             right_pad_symbol='</s>'))]"
   ]
  },
  {
   "cell_type": "markdown",
   "metadata": {},
   "source": [
    "## Smoothing1: Add-one estimation"
   ]
  },
  {
   "cell_type": "code",
   "execution_count": 152,
   "metadata": {},
   "outputs": [],
   "source": [
    "def fdist_trigrams(trigrams_list, n=0):\n",
    "    fdist_thai = FreqDist(trigrams_list)\n",
    "    dict_trigrams = { k:v + n for k,v in dict(fdist_thai).items()}\n",
    "    \n",
    "    return dict_trigrams"
   ]
  },
  {
   "cell_type": "code",
   "execution_count": 153,
   "metadata": {},
   "outputs": [],
   "source": [
    "dict_trigrams_1 = fdist_trigrams(thai_trigrams_wordnet_list, 1)"
   ]
  },
  {
   "cell_type": "code",
   "execution_count": 154,
   "metadata": {},
   "outputs": [],
   "source": [
    "dict_trigrams_0 = fdist_trigrams(thai_trigrams_wordnet_list)"
   ]
  },
  {
   "cell_type": "code",
   "execution_count": 156,
   "metadata": {},
   "outputs": [],
   "source": [
    "def add_one_est(word, trigrams_list, dict_trigrams_0, dict_trigrams_1):\n",
    "    # set up\n",
    "    stop = 0\n",
    "    proba = []\n",
    "    \n",
    "    # create trigrams of word\n",
    "    trigrams_word = list(ngrams(word, 3,\n",
    "                                pad_left=True,\n",
    "                                pad_right=True, \n",
    "                                left_pad_symbol='<s>', \n",
    "                                right_pad_symbol='</s>'))\n",
    "    \n",
    "    # check some \"trigrams of word\" not in \"trigram_list\"\n",
    "    for i in range(len(trigrams_word)):\n",
    "        if trigrams_word[i] not in trigrams_list:\n",
    "            stop = 1\n",
    "            break\n",
    "    \n",
    "    if stop == 1:\n",
    "        dict_trigrams = dict_trigrams_1\n",
    "    else:\n",
    "        dict_trigrams = dict_trigrams_0\n",
    "    \n",
    "    # Calculate\n",
    "    for i in range(len(trigrams_word)):\n",
    "        try:\n",
    "            proba.append(np.log(dict_trigrams[trigrams_word[i]]/len(trigrams_list)))\n",
    "        except:\n",
    "            proba.append(np.log(1/len(trigrams_list)))\n",
    "    \n",
    "    return proba"
   ]
  },
  {
   "cell_type": "markdown",
   "metadata": {},
   "source": [
    "## Probability Wordnet"
   ]
  },
  {
   "cell_type": "code",
   "execution_count": 171,
   "metadata": {
    "scrolled": false
   },
   "outputs": [
    {
     "data": {
      "text/plain": [
       "25"
      ]
     },
     "execution_count": 171,
     "metadata": {},
     "output_type": "execute_result"
    }
   ],
   "source": [
    "corpus_wordnet_simple = random.choices(thai_corpus, k = 25)\n",
    "proba = []\n",
    "for word in corpus_wordnet_simple:\n",
    "    x = add_one_est(word, thai_trigrams_wordnet_list, dict_trigrams_0, dict_trigrams_1)\n",
    "    proba.append(x)\n",
    "\n",
    "len(proba)"
   ]
  },
  {
   "cell_type": "code",
   "execution_count": 172,
   "metadata": {},
   "outputs": [],
   "source": [
    "avg = [sum(x)/len(x) for x in proba]"
   ]
  },
  {
   "cell_type": "code",
   "execution_count": 173,
   "metadata": {
    "scrolled": true
   },
   "outputs": [
    {
     "data": {
      "text/plain": [
       "-8.693850615664402"
      ]
     },
     "execution_count": 173,
     "metadata": {},
     "output_type": "execute_result"
    }
   ],
   "source": [
    "sum(avg)/len(avg)"
   ]
  },
  {
   "cell_type": "markdown",
   "metadata": {},
   "source": [
    "## Probability Not word"
   ]
  },
  {
   "cell_type": "code",
   "execution_count": 174,
   "metadata": {
    "scrolled": false
   },
   "outputs": [
    {
     "data": {
      "text/plain": [
       "25"
      ]
     },
     "execution_count": 174,
     "metadata": {},
     "output_type": "execute_result"
    }
   ],
   "source": [
    "corpus_not_word_simple = random.choices(thai_not_word, k = 25)\n",
    "proba = []\n",
    "for word in corpus_not_word_simple:\n",
    "    x = add_one_est(word, thai_trigrams_wordnet_list, dict_trigrams_0, dict_trigrams_1)\n",
    "    proba.append(x)\n",
    "\n",
    "len(proba)"
   ]
  },
  {
   "cell_type": "code",
   "execution_count": 175,
   "metadata": {},
   "outputs": [],
   "source": [
    "avg = [sum(x)/len(x) for x in proba]"
   ]
  },
  {
   "cell_type": "code",
   "execution_count": 176,
   "metadata": {
    "scrolled": true
   },
   "outputs": [
    {
     "data": {
      "text/plain": [
       "-11.535587927097264"
      ]
     },
     "execution_count": 176,
     "metadata": {},
     "output_type": "execute_result"
    }
   ],
   "source": [
    "sum(avg)/len(avg)"
   ]
  },
  {
   "cell_type": "markdown",
   "metadata": {},
   "source": [
    "## Probability Wiki"
   ]
  },
  {
   "cell_type": "code",
   "execution_count": 177,
   "metadata": {
    "scrolled": false
   },
   "outputs": [
    {
     "data": {
      "text/plain": [
       "25"
      ]
     },
     "execution_count": 177,
     "metadata": {},
     "output_type": "execute_result"
    }
   ],
   "source": [
    "corpus_wiki_simple = random.choices(wiki, k = 25)\n",
    "proba = []\n",
    "for word in corpus_wiki_simple:\n",
    "    x = add_one_est(word, thai_trigrams_wordnet_list, dict_trigrams_0, dict_trigrams_1)\n",
    "    proba.append(x)\n",
    "\n",
    "len(proba)"
   ]
  },
  {
   "cell_type": "code",
   "execution_count": 178,
   "metadata": {},
   "outputs": [],
   "source": [
    "avg = [sum(x)/len(x) for x in proba]"
   ]
  },
  {
   "cell_type": "code",
   "execution_count": 179,
   "metadata": {
    "scrolled": true
   },
   "outputs": [
    {
     "data": {
      "text/plain": [
       "-8.079900658258584"
      ]
     },
     "execution_count": 179,
     "metadata": {},
     "output_type": "execute_result"
    }
   ],
   "source": [
    "sum(avg)/len(avg)"
   ]
  }
 ],
 "metadata": {
  "kernelspec": {
   "display_name": "Python 3.7.5 64-bit ('NLP': conda)",
   "language": "python",
   "name": "python37564bitnlpcondae71441629d68476b8ab8fd18fb52de04"
  },
  "language_info": {
   "codemirror_mode": {
    "name": "ipython",
    "version": 3
   },
   "file_extension": ".py",
   "mimetype": "text/x-python",
   "name": "python",
   "nbconvert_exporter": "python",
   "pygments_lexer": "ipython3",
   "version": "3.7.6"
  }
 },
 "nbformat": 4,
 "nbformat_minor": 4
}
