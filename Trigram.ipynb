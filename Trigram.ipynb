{
 "cells": [
  {
   "cell_type": "code",
   "execution_count": 1,
   "metadata": {},
   "outputs": [],
   "source": [
    "from nltk import ngrams\n",
    "from nltk import FreqDist\n",
    "from math import e\n",
    "from math import log\n",
    "from pythainlp import word_tokenize\n",
    "from nltk.corpus import wordnet\n",
    "import numpy as np\n",
    "import random\n",
    "import re"
   ]
  },
  {
   "cell_type": "markdown",
   "metadata": {},
   "source": [
    "## Corpus"
   ]
  },
  {
   "cell_type": "markdown",
   "metadata": {},
   "source": [
    "### Thai Corpus"
   ]
  },
  {
   "cell_type": "markdown",
   "metadata": {},
   "source": [
    "1. wordnet"
   ]
  },
  {
   "cell_type": "code",
   "execution_count": 2,
   "metadata": {},
   "outputs": [
    {
     "data": {
      "text/plain": [
       "75582"
      ]
     },
     "execution_count": 2,
     "metadata": {},
     "output_type": "execute_result"
    }
   ],
   "source": [
    "from pythainlp.corpus.wordnet import all_lemma_names\n",
    "len(list(all_lemma_names()))\n",
    "thai_corpus = [word for word in list(all_lemma_names())\n",
    "               if word[0].isalpha()\n",
    "               and '-' not in word \n",
    "               and '.' not in word\n",
    "               and '_' not in word]\n",
    "len(thai_corpus)"
   ]
  },
  {
   "cell_type": "markdown",
   "metadata": {},
   "source": [
    "2. Not word"
   ]
  },
  {
   "cell_type": "code",
   "execution_count": 3,
   "metadata": {},
   "outputs": [],
   "source": [
    "thai_not_word = [\"กฟกพๆๆไำๆ\", \"ายนดาาหทอปแๆ\", \"เนกดเดนกยเ\", \"พไำพพจจไพๆำ\", \"-ภคพัำไรพ\",\n",
    "          \"ถภนยบๆ\", \"หทอปแ\", \"สบกยำวส\", \"กกำหกอแปอ\", \"อแปทอปแดรีน\",\n",
    "          \"อแปอาวสกด\", \"แผปแวฟกำบ\", \"นยบพ\", \"พไำพพจจไพๆำ\", \"ภคพัำไรพ\",\n",
    "          \"ปผอแิทม\", \"สมไำพทา\", \"ฟมสนะวหด\", \"นหกดมสยวปากด\" , \"นดาหกสทฟก\",\n",
    "          \"ดาพนฟทเ\", \"กฟหก่าอปท\", \"ยนตพจยหนยุขน\", \"พนงรจตกมด\", \"ภคตจกดดทมกด่สว\" ]"
   ]
  },
  {
   "cell_type": "markdown",
   "metadata": {},
   "source": [
    "3. Wiki"
   ]
  },
  {
   "cell_type": "code",
   "execution_count": 4,
   "metadata": {},
   "outputs": [],
   "source": [
    "text = open('wiki.txt', mode='r', encoding='utf-8')\n",
    "wiki = word_tokenize(text.read(), engine=\"attacut\")\n",
    "wiki = [w for w in wiki if w != ' '\n",
    "                        and re.sub('[^\\u0E00-\\u0E7F0]+', '', w)\n",
    "                        and w[0] != \" \"]"
   ]
  },
  {
   "cell_type": "markdown",
   "metadata": {},
   "source": [
    "4. Image1"
   ]
  },
  {
   "cell_type": "code",
   "execution_count": 106,
   "metadata": {},
   "outputs": [
    {
     "data": {
      "text/plain": [
       "58"
      ]
     },
     "execution_count": 106,
     "metadata": {},
     "output_type": "execute_result"
    }
   ],
   "source": [
    "text1 = open('image1.txt', mode='r', encoding='utf-8')\n",
    "image1 = word_tokenize(text1.read(), engine=\"attacut\")\n",
    "image1 = [w for w in image1 if w != ' '\n",
    "                        and re.sub('[^\\u0E00-\\u0E7F0]+', '', w)\n",
    "                        and w[0] != \" \"]\n",
    "text1.close()\n",
    "len(image1)"
   ]
  },
  {
   "cell_type": "markdown",
   "metadata": {},
   "source": [
    "5. Image2"
   ]
  },
  {
   "cell_type": "code",
   "execution_count": 100,
   "metadata": {},
   "outputs": [
    {
     "data": {
      "text/plain": [
       "38"
      ]
     },
     "execution_count": 100,
     "metadata": {},
     "output_type": "execute_result"
    }
   ],
   "source": [
    "text2 = open('image2.txt', mode='r', encoding='utf-8')\n",
    "ans_text2 = []\n",
    "x = text2.read().splitlines()\n",
    "for txt in x:\n",
    "    ans_text2.append(txt.strip(\"[\").lstrip(\"'\").rstrip(\",\").rstrip(\"'\").lstrip(' ').lstrip(\"''\"))\n",
    "\n",
    "image2 = [w for w in ans_text2 if w != ' '\n",
    "                        and re.sub('[^\\u0E00-\\u0E7F0]+', '', w)\n",
    "                        and w[0] != \" \"]\n",
    "\n",
    "text2.close()\n",
    "len(image2)"
   ]
  },
  {
   "cell_type": "markdown",
   "metadata": {},
   "source": [
    "6. Image3"
   ]
  },
  {
   "cell_type": "code",
   "execution_count": 101,
   "metadata": {},
   "outputs": [
    {
     "data": {
      "text/plain": [
       "4"
      ]
     },
     "execution_count": 101,
     "metadata": {},
     "output_type": "execute_result"
    }
   ],
   "source": [
    "text3 = open('image3.txt', mode='r', encoding='utf-8')\n",
    "ans_text3 = []\n",
    "x = text3.read().splitlines()\n",
    "for txt in x:\n",
    "    ans_text3.append(txt.strip(\"[\").lstrip(\"'\").rstrip(\",\").rstrip(\"'\").lstrip(' ').lstrip(\"''\"))\n",
    "\n",
    "image3 = [w for w in ans_text3 if w != ' '\n",
    "                        and re.sub('[^\\u0E00-\\u0E7F0]+', '', w)\n",
    "                        and w[0] != \" \"]\n",
    "\n",
    "text3.close()\n",
    "len(image3)"
   ]
  },
  {
   "cell_type": "markdown",
   "metadata": {},
   "source": [
    "7. Image4"
   ]
  },
  {
   "cell_type": "code",
   "execution_count": 120,
   "metadata": {},
   "outputs": [],
   "source": [
    "text4 = open('image4.txt', mode='r', encoding='utf-8')\n",
    "ans_text4 = []\n",
    "x = text4.read().splitlines()\n",
    "for txt in x:\n",
    "    ans_text4.append(txt.strip(\"[\").lstrip(\"'\").rstrip(\",\").rstrip(\"'\").lstrip(' ').lstrip(\"''\"))\n",
    "\n",
    "image4 = [w for w in ans_text4 if w != ' '\n",
    "                        and re.sub('[^\\u0E00-\\u0E7F0]+', '', w)\n",
    "                        and w[0] != \" \"]\n",
    "\n",
    "text4.close()\n",
    "# len(image4)\n",
    "# image4"
   ]
  },
  {
   "cell_type": "markdown",
   "metadata": {},
   "source": [
    "### Eng Corpus"
   ]
  },
  {
   "cell_type": "code",
   "execution_count": 41,
   "metadata": {},
   "outputs": [
    {
     "data": {
      "text/plain": [
       "77578"
      ]
     },
     "execution_count": 41,
     "metadata": {},
     "output_type": "execute_result"
    }
   ],
   "source": [
    "eng_corpus = [word for word in list(wordnet.all_lemma_names())\n",
    "              if word[0].isalpha()\n",
    "              and '-' not in word \n",
    "              and '.' not in word\n",
    "              and '_' not in word]\n",
    "len(eng_corpus)"
   ]
  },
  {
   "cell_type": "markdown",
   "metadata": {},
   "source": [
    "## Generate Trigrams"
   ]
  },
  {
   "cell_type": "markdown",
   "metadata": {},
   "source": [
    "1. wordnet"
   ]
  },
  {
   "cell_type": "code",
   "execution_count": 42,
   "metadata": {},
   "outputs": [],
   "source": [
    "thai_trigrams_wordnet_list = [tri for word in thai_corpus \n",
    "                                 for tri in list(ngrams(word, 3, \n",
    "                                                pad_left=True,\n",
    "                                                pad_right=True, \n",
    "                                                left_pad_symbol='<s>',\n",
    "                                                right_pad_symbol='</s>'))]"
   ]
  },
  {
   "cell_type": "markdown",
   "metadata": {},
   "source": [
    "2. not word"
   ]
  },
  {
   "cell_type": "code",
   "execution_count": 43,
   "metadata": {},
   "outputs": [],
   "source": [
    "thai_not_word_list = [tri for word in thai_not_word \n",
    "                         for tri in list(ngrams(word, 3, \n",
    "                                                pad_left=True,\n",
    "                                                pad_right=True, \n",
    "                                                left_pad_symbol='<s>',\n",
    "                                                right_pad_symbol='</s>'))]"
   ]
  },
  {
   "cell_type": "markdown",
   "metadata": {},
   "source": [
    "3. Wiki"
   ]
  },
  {
   "cell_type": "code",
   "execution_count": 44,
   "metadata": {},
   "outputs": [],
   "source": [
    "thai_wiki_list = [tri for word in wiki \n",
    "                      for tri in list(ngrams(word, 3, \n",
    "                                             pad_left=True,\n",
    "                                             pad_right=True, \n",
    "                                             left_pad_symbol='<s>',\n",
    "                                             right_pad_symbol='</s>'))]"
   ]
  },
  {
   "cell_type": "markdown",
   "metadata": {},
   "source": [
    "## Smoothing1: Add-one estimation"
   ]
  },
  {
   "cell_type": "code",
   "execution_count": 45,
   "metadata": {},
   "outputs": [],
   "source": [
    "def fdist_trigrams(trigrams_list, n=0):\n",
    "    fdist_thai = FreqDist(trigrams_list)\n",
    "    dict_trigrams = { k:v + n for k,v in dict(fdist_thai).items()}\n",
    "    \n",
    "    return dict_trigrams"
   ]
  },
  {
   "cell_type": "code",
   "execution_count": 46,
   "metadata": {},
   "outputs": [],
   "source": [
    "dict_trigrams_1 = fdist_trigrams(thai_trigrams_wordnet_list, 1)"
   ]
  },
  {
   "cell_type": "code",
   "execution_count": 47,
   "metadata": {},
   "outputs": [],
   "source": [
    "dict_trigrams_0 = fdist_trigrams(thai_trigrams_wordnet_list)"
   ]
  },
  {
   "cell_type": "code",
   "execution_count": 48,
   "metadata": {},
   "outputs": [],
   "source": [
    "def add_one_est(word, trigrams_list, dict_trigrams_0, dict_trigrams_1):\n",
    "    # set up\n",
    "    stop = 0\n",
    "    proba = []\n",
    "    \n",
    "    # create trigrams of word\n",
    "    trigrams_word = list(ngrams(word, 3,\n",
    "                                pad_left=True,\n",
    "                                pad_right=True, \n",
    "                                left_pad_symbol='<s>', \n",
    "                                right_pad_symbol='</s>'))\n",
    "    \n",
    "    # check some \"trigrams of word\" not in \"trigram_list\"\n",
    "    for i in range(len(trigrams_word)):\n",
    "        if trigrams_word[i] not in trigrams_list:\n",
    "            stop = 1\n",
    "            break\n",
    "    \n",
    "    if stop == 1:\n",
    "        dict_trigrams = dict_trigrams_1\n",
    "    else:\n",
    "        dict_trigrams = dict_trigrams_0\n",
    "    \n",
    "    # Calculate\n",
    "    for i in range(len(trigrams_word)):\n",
    "        try:\n",
    "            proba.append(np.log(dict_trigrams[trigrams_word[i]]/len(trigrams_list)))\n",
    "        except:\n",
    "            proba.append(np.log(1/len(trigrams_list)))\n",
    "    \n",
    "    return proba"
   ]
  },
  {
   "cell_type": "markdown",
   "metadata": {},
   "source": [
    "## Probability Wordnet"
   ]
  },
  {
   "cell_type": "code",
   "execution_count": 49,
   "metadata": {
    "scrolled": false
   },
   "outputs": [
    {
     "data": {
      "text/plain": [
       "25"
      ]
     },
     "execution_count": 49,
     "metadata": {},
     "output_type": "execute_result"
    }
   ],
   "source": [
    "corpus_wordnet_simple = random.choices(thai_corpus, k = 25)\n",
    "proba = []\n",
    "for word in corpus_wordnet_simple:\n",
    "    x = add_one_est(word, thai_trigrams_wordnet_list, dict_trigrams_0, dict_trigrams_1)\n",
    "    proba.append(x)\n",
    "\n",
    "len(proba)"
   ]
  },
  {
   "cell_type": "code",
   "execution_count": 50,
   "metadata": {},
   "outputs": [],
   "source": [
    "avg = [sum(x)/len(x) for x in proba]"
   ]
  },
  {
   "cell_type": "code",
   "execution_count": 51,
   "metadata": {
    "scrolled": true
   },
   "outputs": [
    {
     "data": {
      "text/plain": [
       "-8.664902693391069"
      ]
     },
     "execution_count": 51,
     "metadata": {},
     "output_type": "execute_result"
    }
   ],
   "source": [
    "sum(avg)/len(avg)"
   ]
  },
  {
   "cell_type": "markdown",
   "metadata": {},
   "source": [
    "## Probability Not word"
   ]
  },
  {
   "cell_type": "code",
   "execution_count": 52,
   "metadata": {
    "scrolled": false
   },
   "outputs": [
    {
     "data": {
      "text/plain": [
       "25"
      ]
     },
     "execution_count": 52,
     "metadata": {},
     "output_type": "execute_result"
    }
   ],
   "source": [
    "corpus_not_word_simple = random.choices(thai_not_word, k = 25)\n",
    "proba = []\n",
    "for word in corpus_not_word_simple:\n",
    "    x = add_one_est(word, thai_trigrams_wordnet_list, dict_trigrams_0, dict_trigrams_1)\n",
    "    proba.append(x)\n",
    "\n",
    "len(proba)"
   ]
  },
  {
   "cell_type": "code",
   "execution_count": 53,
   "metadata": {},
   "outputs": [],
   "source": [
    "avg = [sum(x)/len(x) for x in proba]"
   ]
  },
  {
   "cell_type": "code",
   "execution_count": 54,
   "metadata": {
    "scrolled": true
   },
   "outputs": [
    {
     "data": {
      "text/plain": [
       "-11.768992292918886"
      ]
     },
     "execution_count": 54,
     "metadata": {},
     "output_type": "execute_result"
    }
   ],
   "source": [
    "sum(avg)/len(avg)"
   ]
  },
  {
   "cell_type": "markdown",
   "metadata": {},
   "source": [
    "## Probability Wiki"
   ]
  },
  {
   "cell_type": "code",
   "execution_count": 55,
   "metadata": {
    "scrolled": false
   },
   "outputs": [
    {
     "data": {
      "text/plain": [
       "25"
      ]
     },
     "execution_count": 55,
     "metadata": {},
     "output_type": "execute_result"
    }
   ],
   "source": [
    "corpus_wiki_simple = random.choices(wiki, k = 25)\n",
    "proba = []\n",
    "for word in corpus_wiki_simple:\n",
    "    x = add_one_est(word, thai_trigrams_wordnet_list, dict_trigrams_0, dict_trigrams_1)\n",
    "    proba.append(x)\n",
    "\n",
    "len(proba)"
   ]
  },
  {
   "cell_type": "code",
   "execution_count": 56,
   "metadata": {},
   "outputs": [],
   "source": [
    "avg = [sum(x)/len(x) for x in proba]"
   ]
  },
  {
   "cell_type": "code",
   "execution_count": 57,
   "metadata": {
    "scrolled": true
   },
   "outputs": [
    {
     "data": {
      "text/plain": [
       "-8.25890559186671"
      ]
     },
     "execution_count": 57,
     "metadata": {},
     "output_type": "execute_result"
    }
   ],
   "source": [
    "sum(avg)/len(avg)"
   ]
  },
  {
   "cell_type": "markdown",
   "metadata": {},
   "source": [
    "## Probability Image 1"
   ]
  },
  {
   "cell_type": "code",
   "execution_count": 135,
   "metadata": {
    "scrolled": false
   },
   "outputs": [
    {
     "data": {
      "text/plain": [
       "{'การ': -5.88784470746459,\n",
       " 'พางพิเศษแห่งประเทศไทย': -9.47849566161584,\n",
       " \"โพร'\": -11.00186805384449,\n",
       " '0': -13.891161482012413,\n",
       " '5380': -13.891161482012409,\n",
       " 'เลย': -7.8691026887829425,\n",
       " 'ประจํา': -9.371148421747964,\n",
       " 'ตัว': -6.939584666454313,\n",
       " 'ผู้': -7.144941963443349,\n",
       " 'เสีย': -6.462008663688724,\n",
       " \"ภาษีอากร',\": -10.282164794753703,\n",
       " '00016542': -13.89116148201241,\n",
       " 'ใบ': -8.332264522170846,\n",
       " 'รับ': -7.244983781376675,\n",
       " 'ค่า': -7.002367237162535,\n",
       " 'ผ่าน': -7.520333232342129,\n",
       " \"พางพิเศษ',\\n\": -11.35452443531372,\n",
       " 'สายมางพณี': -9.685237305801321,\n",
       " '-สุขสวัสดิ์': -11.244843351123933,\n",
       " 'ทาง': -6.635896273325277,\n",
       " 'พิเศษแห่งประเทศไทย': -9.226119833085942,\n",
       " 'เล่ม': -7.689213699624379,\n",
       " 'ที่': -6.378380588355644,\n",
       " 'เลข': -8.28627083916749,\n",
       " '2016': -13.891161482012409,\n",
       " '07': -13.89116148201241,\n",
       " '03': -13.89116148201241,\n",
       " 'ค่าน': -6.97792055236404,\n",
       " 'เข้า': -6.7209009951215,\n",
       " 'ด่าน': -8.031817456363532,\n",
       " 'ออก': -6.8750503530039495,\n",
       " 'ช่องทาง': -7.36287376043796,\n",
       " '-MX03': -13.891161482012409,\n",
       " 'ประเภท': -8.248146155940995,\n",
       " \"รถ'\": -11.311541642328127,\n",
       " 'บาท': -8.626253461642415,\n",
       " 'รวม': -8.150004906264735,\n",
       " 'ภาษี': -7.9262353500229255,\n",
       " 'มูลค่า': -8.53757160876038,\n",
       " 'เพิ่ม': -7.667709358081747,\n",
       " '40': -13.89116148201241,\n",
       " '00': -13.89116148201241,\n",
       " 'เเรีะ': -10.238455436185486,\n",
       " 'เงิน': -6.7652406641578935,\n",
       " 'สําหรับ': -9.658336445981426,\n",
       " 'กรูณาทําสําเนา': -11.079323175132922,\n",
       " 'เกื่อนํา': -9.765857528979547,\n",
       " 'ไป': -8.352774211239643,\n",
       " 'ใช้': -8.219644144051577,\n",
       " 'ใน': -7.738887048051726,\n",
       " 'ธุระกรรม': -8.615757401244363,\n",
       " 'ต่อ': -7.627133719638441}"
      ]
     },
     "execution_count": 135,
     "metadata": {},
     "output_type": "execute_result"
    }
   ],
   "source": [
    "# corpus_image1_simple = random.choices(image1, k = 25)\n",
    "\n",
    "proba = []\n",
    "for word in image1:\n",
    "    x = add_one_est(word, thai_trigrams_wordnet_list, dict_trigrams_0, dict_trigrams_1)\n",
    "    proba.append(x)\n",
    "\n",
    "# len(proba)\n",
    "dict(zip(image1,[sum(p)/len(p) for p in proba]))"
   ]
  },
  {
   "cell_type": "code",
   "execution_count": 129,
   "metadata": {},
   "outputs": [],
   "source": [
    "avg = [sum(x)/len(x) for x in proba]"
   ]
  },
  {
   "cell_type": "code",
   "execution_count": 130,
   "metadata": {
    "scrolled": true
   },
   "outputs": [
    {
     "data": {
      "text/plain": [
       "-9.048700966824462"
      ]
     },
     "execution_count": 130,
     "metadata": {},
     "output_type": "execute_result"
    }
   ],
   "source": [
    "sum(avg)/len(avg)"
   ]
  },
  {
   "cell_type": "markdown",
   "metadata": {},
   "source": [
    "## Probability Image 2"
   ]
  },
  {
   "cell_type": "code",
   "execution_count": 136,
   "metadata": {
    "scrolled": false
   },
   "outputs": [
    {
     "data": {
      "text/plain": [
       "{'231119012731': -13.841650969115275,\n",
       " 'ญะนัน่': -11.515937837149776,\n",
       " '17-DEC-2019': -13.891161482012413,\n",
       " '550': -13.89116148201241,\n",
       " '02-627-4523': -13.891161482012413,\n",
       " '0': -13.891161482012413,\n",
       " 'ล|ลทล': -11.19965319212128,\n",
       " '026278627': -13.89116148201241,\n",
       " '10330': -13.891161482012409,\n",
       " '0105537133562': -13.891161482012414,\n",
       " '2015': -13.891161482012409,\n",
       " '80': -13.89116148201241,\n",
       " '49000': -13.891161482012409,\n",
       " '0495558000071': -13.844951669975083,\n",
       " '00000': -13.891161482012409,\n",
       " '081': -13.75253204590042,\n",
       " '0761881': -13.81414512861686,\n",
       " '201': -13.75253204590042,\n",
       " 'ซะ๒๒': -12.527588032725847,\n",
       " 'บอฟ': -9.681696492307424,\n",
       " '0120-BKK2(KO)-Premises': -13.816504837461247,\n",
       " '93,000.00': -13.89116148201241,\n",
       " '20': -13.89116148201241,\n",
       " '2311.RB3.0000.': -13.891161482012414,\n",
       " '1952100940:': -13.891161482012413,\n",
       " '00000.': -13.891161482012409,\n",
       " '00000.00000.0000.00.000.': -13.891161482012418,\n",
       " '0000000000.00000': -13.891161482012414,\n",
       " '0220-BKK2(KO)-Premises': -13.816504837461247,\n",
       " '87,000.00': -13.89116148201241,\n",
       " '\"Feb\\'20\"': -13.89116148201241,\n",
       " '2311.RB3.0000.75312.5654010200.00000.00000.00000.0000.00.000.P2P.0000000000.00000': -13.891161482012418,\n",
       " '02-627-4668': -13.837842468123187,\n",
       " '131119013771': -13.841650969115275,\n",
       " '180,000.00': -13.891161482012413,\n",
       " 'รริรรไส': -11.480550052087336,\n",
       " 'ท': -9.07550709217295}"
      ]
     },
     "execution_count": 136,
     "metadata": {},
     "output_type": "execute_result"
    }
   ],
   "source": [
    "# corpus_image2_simple = random.choices(image2, k = 25)\n",
    "\n",
    "proba = []\n",
    "for word in image2:\n",
    "    x = add_one_est(word, thai_trigrams_wordnet_list, dict_trigrams_0, dict_trigrams_1)\n",
    "    proba.append(x)\n",
    "\n",
    "# len(proba)\n",
    "dict(zip(image2,[sum(p)/len(p) for p in proba]))"
   ]
  },
  {
   "cell_type": "code",
   "execution_count": 125,
   "metadata": {},
   "outputs": [],
   "source": [
    "avg = [sum(x)/len(x) for x in proba]"
   ]
  },
  {
   "cell_type": "code",
   "execution_count": 112,
   "metadata": {
    "scrolled": false
   },
   "outputs": [
    {
     "data": {
      "text/plain": [
       "-13.402525309382085"
      ]
     },
     "execution_count": 112,
     "metadata": {},
     "output_type": "execute_result"
    }
   ],
   "source": [
    "sum(avg)/len(avg)"
   ]
  },
  {
   "cell_type": "markdown",
   "metadata": {},
   "source": [
    "## Probability Image 3"
   ]
  },
  {
   "cell_type": "code",
   "execution_count": 137,
   "metadata": {
    "scrolled": false
   },
   "outputs": [
    {
     "data": {
      "text/plain": [
       "{'วันที่': -7.254528992757594,\n",
       " '120819': -13.891161482012409,\n",
       " '130529': -13.891161482012409,\n",
       " '130919': -13.891161482012409}"
      ]
     },
     "execution_count": 137,
     "metadata": {},
     "output_type": "execute_result"
    }
   ],
   "source": [
    "# corpus_image2_simple = random.choices(image2, k = 25)\n",
    "\n",
    "proba = []\n",
    "for word in image3:\n",
    "    x = add_one_est(word, thai_trigrams_wordnet_list, dict_trigrams_0, dict_trigrams_1)\n",
    "    proba.append(x)\n",
    "\n",
    "# len(proba)\n",
    "dict(zip(image3,[sum(p)/len(p) for p in proba]))"
   ]
  },
  {
   "cell_type": "code",
   "execution_count": 114,
   "metadata": {},
   "outputs": [],
   "source": [
    "avg = [sum(x)/len(x) for x in proba]"
   ]
  },
  {
   "cell_type": "code",
   "execution_count": 115,
   "metadata": {
    "scrolled": false
   },
   "outputs": [
    {
     "data": {
      "text/plain": [
       "-12.232003359698705"
      ]
     },
     "execution_count": 115,
     "metadata": {},
     "output_type": "execute_result"
    }
   ],
   "source": [
    "sum(avg)/len(avg)"
   ]
  },
  {
   "cell_type": "markdown",
   "metadata": {},
   "source": [
    "## Probability Image 4"
   ]
  },
  {
   "cell_type": "code",
   "execution_count": 138,
   "metadata": {
    "scrolled": false
   },
   "outputs": [
    {
     "data": {
      "text/plain": [
       "{'บิลเงินสุดแนกัวกับภูาปี่เหณ': -10.073608626360075,\n",
       " 'ต้นฉบับ': -8.378253009599,\n",
       " 'ดูฏถั้ว,,': -12.496301653340693,\n",
       " 'ถนนสุขุมวิท': -10.17523358081556,\n",
       " 'แขวงคลองตัน': -8.979887613128476,\n",
       " 'เขตคลองเตย': -9.231531663682828,\n",
       " 'เรตีบํารับตา': -9.7018317429963,\n",
       " '28/11/2016': -13.891161482012413,\n",
       " 'กรุงเทพฯ': -9.654677267704635,\n",
       " '10110': -13.891161482012409,\n",
       " 'โทร.': -10.972760137478447,\n",
       " '(02)269-1000': -13.891161482012413,\n",
       " 'กล': -6.92261907472367,\n",
       " 'หน้าที่': -7.268742688199053,\n",
       " 'บริษัท': -8.641233180885243,\n",
       " 'บัตรกรุงไทย': -9.152765036956282,\n",
       " 'จํากัด': -10.114443992067294,\n",
       " '(มหาซน)': -13.054680174600493,\n",
       " 'สํานักงานใหญ่': -9.30332702508253,\n",
       " 'เลขที่': -8.309244109267821,\n",
       " 'อาคารสมัชชซาวาณิช': -9.972537819583005,\n",
       " 'ชั้น14': -10.710740398561969,\n",
       " 'ถนนลสุขุมวิท': -10.599943745198134,\n",
       " 'เลขประจําตักผู้เสียภาษีอากิว': -9.589206737086634,\n",
       " '๓56': -13.89116148201241,\n",
       " '0016253': -13.891161482012409,\n",
       " 'ที่อยู่': -7.392242925213354,\n",
       " 'แขวงคลองต้นเหนือ': -8.994593193866573,\n",
       " 'เขตวัฒนา': -9.41999979661721,\n",
       " 'กรุงเทพมหานคร': -9.262047147708719,\n",
       " '028285000': -13.89116148201241,\n",
       " 'เลขประจําตัวผู้เสียภาษี': -9.373239487997282,\n",
       " '0107545000110': -13.891161482012414,\n",
       " 'วันที่ใบกํากับภาษี': -9.554043243395032,\n",
       " 'เวลา': -7.051167987673977,\n",
       " 'ลําดับเครื่องเก็บเงิน': -8.641565402010361,\n",
       " 'หมายเลขเครื่องเก็บเงิน': -8.200850181009008,\n",
       " 'ลําดับรายการ': -9.2568123450851,\n",
       " 'พนักงานเก็บเงิน': -8.138644607124409,\n",
       " '20:15:47': -13.89116148201241,\n",
       " '01103': -13.891161482012409,\n",
       " '(02)C13331': -13.83339921696575,\n",
       " '1100082': -13.891161482012409,\n",
       " 'รหัสสินค้า': -8.671490322647138,\n",
       " 'รายการสินค้า': -7.9072474008374325,\n",
       " 'จํานวนสินค้า': -9.559177202219251,\n",
       " 'ราคาต่อหน่วย': -8.429305418409339,\n",
       " 'จํานวนเงิน': -9.541531361703802,\n",
       " 'ประเภทภาษี': -8.881192937058664,\n",
       " '69025': -13.891161482012409,\n",
       " '1040667': -13.891161482012409,\n",
       " 'L4RRO10000': -13.891161482012413,\n",
       " '10f': -13.89116148201241,\n",
       " '990.00': -13.891161482012409,\n",
       " '690251020201': -13.841650969115275,\n",
       " 'L2A6010000': -13.891161482012413,\n",
       " '2,493.00': -13.89116148201241,\n",
       " '0.00': -13.891161482012409,\n",
       " 'ส่วนลดคูปอง': -9.6249884820095,\n",
       " '3,483.00': -13.89116148201241,\n",
       " 'ควนลด': -9.15471162434422,\n",
       " 'ว': -8.815853741863094,\n",
       " 'เงินมัดจํา': -9.724762366781015,\n",
       " 'มูลค่าสินค้าที่ยกเว้นภาษีมูลค่าเพิ่ม': -9.331157390743007,\n",
       " '3,483,00': -13.89116148201241,\n",
       " 'มูลค่าสินค้ารวมภาษีมูลค่าเพิ่ม': -9.395432441304447,\n",
       " 'รวมเงินทั้งสิ้น': -8.778739229371938,\n",
       " '(บาท)': -13.236166127916615,\n",
       " 'มูลค่าสินค้าที่เสียภาษีมูลค่าเพิ่ม': -9.055046175766188,\n",
       " 'สามพันสีร้อยแปดสิบ': -9.179517742430452,\n",
       " 'อ': -8.710797086357458,\n",
       " 'อ่': -8.66233074846216,\n",
       " 'ภาษีมูลค่าเพิ่ม': -9.03875184497689,\n",
       " 'สินค้าซื้อแล้วไม่รับคืน': -9.162449700805329,\n",
       " '(๑๐๐อร': -12.987703669671328,\n",
       " 'ลายเซ็น': -8.224453055022211,\n",
       " '(ผู้รับเงิน)': -10.651840082162616,\n",
       " 'P2.02': -13.891161482012409,\n",
       " 'บ': -9.099269893039756,\n",
       " '๑7': -13.89116148201241,\n",
       " 'บิลเงินสด': -8.889568555402848,\n",
       " 'บกํากับภาษี': -10.416505208154273,\n",
       " 'ตนฉบบ': -10.61198879085808,\n",
       " 'กคา': -8.52987225538182,\n",
       " 'ซิติมอลล์': -8.625368156506546,\n",
       " 'กรุ๊ป': -9.287693796426987,\n",
       " 'เลขที่ใบกํากับภาษี': -9.95768034958351,\n",
       " '0': -13.891161482012413,\n",
       " '0000289781': -13.83339921696575,\n",
       " 'แขวงคล': -9.688383847782925,\n",
       " 'ง่': -9.604688845119716,\n",
       " 'องตัน': -7.562289850147772,\n",
       " 'พิมพ์': -7.937239322489556,\n",
       " 'ณ': -12.104064093442602,\n",
       " 'วันที่': -7.254528992757594,\n",
       " '18/11/2016': -13.891161482012413,\n",
       " 'ชื่อลูกค้า': -8.48963907106141,\n",
       " 'บัตรกรงไทย': -9.31897400052111,\n",
       " 'มหาชน': -8.842834895164073,\n",
       " 'เลขประจําตัวผู้เสียภาษีอากร': -9.342600636522421,\n",
       " 'ที่อย': -6.844264796256029,\n",
       " 'อาคารสมซชซาวาณิช': -10.179501057725956,\n",
       " 'ซัน': -7.398141938562802,\n",
       " 'ถนนลุขุมวิท': -10.651200406802515,\n",
       " 'แขวงคลองตันเหนือ': -9.091821373946027,\n",
       " '0105540016253': -13.891161482012414,\n",
       " 'กรงเทพมหานคร': -9.378983850164241,\n",
       " '028855000': -13.89116148201241,\n",
       " '01075450001': -13.837842468123187,\n",
       " '10': -13.89116148201241,\n",
       " '๕': -13.891161482012413,\n",
       " '11:04:14': -13.89116148201241,\n",
       " '03407': -13.891161482012409,\n",
       " '(02)C': -13.891161482012409,\n",
       " '1333411100106': -13.891161482012414,\n",
       " '50756': -13.891161482012409,\n",
       " '304': -13.89116148201241,\n",
       " 'เทป': -8.283939718638894,\n",
       " '4,066.00': -13.89116148201241,\n",
       " '1,066.00': -13.89116148201241,\n",
       " '6.00': -13.891161482012409,\n",
       " 'ส่วนลด': -8.588522151999088,\n",
       " '0,00': -13.891161482012409,\n",
       " 'มูลค่าสินค้าที่ยกเจ้นภาษีมูลค่าเพิ่ม': -9.35063569494249,\n",
       " 'มูลค่าสินค้าที่เลียภาษีมูลค่าเพิ่ม': -9.0605798138414,\n",
       " 'ชาควอ': -9.24951146210021,\n",
       " '80.74': -13.891161482012409,\n",
       " 'หนงพนหกสบหกบาทถวน': -11.2727970223991,\n",
       " 'A08': -13.75253204590042,\n",
       " \"02']\": -13.891161482012409}"
      ]
     },
     "execution_count": 138,
     "metadata": {},
     "output_type": "execute_result"
    }
   ],
   "source": [
    "# corpus_image2_simple = random.choices(image2, k = 25)\n",
    "\n",
    "proba = []\n",
    "for word in image4:\n",
    "    x = add_one_est(word, thai_trigrams_wordnet_list, dict_trigrams_0, dict_trigrams_1)\n",
    "    proba.append(x)\n",
    "\n",
    "# len(proba)\n",
    "dict(zip(image4,[sum(p)/len(p) for p in proba]))"
   ]
  },
  {
   "cell_type": "code",
   "execution_count": 117,
   "metadata": {},
   "outputs": [],
   "source": [
    "avg = [sum(x)/len(x) for x in proba]"
   ]
  },
  {
   "cell_type": "code",
   "execution_count": 118,
   "metadata": {
    "scrolled": false
   },
   "outputs": [
    {
     "data": {
      "text/plain": [
       "-10.90119882501532"
      ]
     },
     "execution_count": 118,
     "metadata": {},
     "output_type": "execute_result"
    }
   ],
   "source": [
    "sum(avg)/len(avg)"
   ]
  }
 ],
 "metadata": {
  "kernelspec": {
   "display_name": "Python 3.7.5 64-bit ('NLP': conda)",
   "language": "python",
   "name": "python37564bitnlpcondae71441629d68476b8ab8fd18fb52de04"
  },
  "language_info": {
   "codemirror_mode": {
    "name": "ipython",
    "version": 3
   },
   "file_extension": ".py",
   "mimetype": "text/x-python",
   "name": "python",
   "nbconvert_exporter": "python",
   "pygments_lexer": "ipython3",
   "version": "3.7.6"
  }
 },
 "nbformat": 4,
 "nbformat_minor": 4
}
