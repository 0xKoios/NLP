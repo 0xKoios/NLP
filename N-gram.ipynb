{
 "cells": [
  {
   "cell_type": "code",
   "execution_count": 1,
   "metadata": {},
   "outputs": [],
   "source": [
    "# help(ngrams)"
   ]
  },
  {
   "cell_type": "code",
   "execution_count": 2,
   "metadata": {},
   "outputs": [],
   "source": [
    "# help(NgramCounter)"
   ]
  },
  {
   "cell_type": "code",
   "execution_count": 2,
   "metadata": {},
   "outputs": [],
   "source": [
    "from nltk.util import ngrams\n",
    "from nltk import FreqDist\n",
    "from nltk import bigrams\n",
    "from nltk.corpus import wordnet\n",
    "from nltk.lm import NgramCounter\n",
    "from pythainlp.corpus.wordnet import all_lemma_names\n",
    "from math import e\n",
    "from math import log\n",
    "import pickle"
   ]
  },
  {
   "cell_type": "code",
   "execution_count": 3,
   "metadata": {},
   "outputs": [
    {
     "data": {
      "text/plain": [
       "80508"
      ]
     },
     "execution_count": 3,
     "metadata": {},
     "output_type": "execute_result"
    }
   ],
   "source": [
    "thai_all_lemma_names = list(all_lemma_names())\n",
    "len(thai_all_lemma_names)"
   ]
  },
  {
   "cell_type": "code",
   "execution_count": 4,
   "metadata": {},
   "outputs": [],
   "source": [
    "eng_all_lemma_names = list(wordnet.all_lemma_names())"
   ]
  },
  {
   "cell_type": "markdown",
   "metadata": {},
   "source": [
    "# Unigram"
   ]
  },
  {
   "cell_type": "markdown",
   "metadata": {},
   "source": [
    "## 1. Thai unigram"
   ]
  },
  {
   "cell_type": "code",
   "execution_count": 5,
   "metadata": {},
   "outputs": [],
   "source": [
    "thai_unigrams = [ngrams(sent, 1) for sent in thai_all_lemma_names ]"
   ]
  },
  {
   "cell_type": "code",
   "execution_count": 6,
   "metadata": {},
   "outputs": [],
   "source": [
    "thai_unigram_counts = NgramCounter(thai_unigrams)"
   ]
  },
  {
   "cell_type": "code",
   "execution_count": 7,
   "metadata": {
    "scrolled": true
   },
   "outputs": [],
   "source": [
    "list_thai_unigrams = [ char[0] for sent in thai_all_lemma_names for char in list(ngrams(sent, 1)) ]"
   ]
  },
  {
   "cell_type": "code",
   "execution_count": 8,
   "metadata": {},
   "outputs": [],
   "source": [
    "thai_unigram_dict = {}\n",
    "for char in list_thai_unigrams:\n",
    "    percent = int(thai_unigram_counts[char])/len(thai_unigrams)\n",
    "    thai_unigram_dict[char] =  e**(log(percent))"
   ]
  },
  {
   "cell_type": "code",
   "execution_count": 9,
   "metadata": {},
   "outputs": [],
   "source": [
    "# thai_unigram_dict"
   ]
  },
  {
   "cell_type": "code",
   "execution_count": 10,
   "metadata": {
    "scrolled": true
   },
   "outputs": [],
   "source": [
    "unigram_tha = open('unigram_tha.pickle', 'ab')\n",
    "pickle.dump(thai_unigram_dict, unigram_tha)\n",
    "unigram_tha.close()"
   ]
  },
  {
   "cell_type": "code",
   "execution_count": 11,
   "metadata": {},
   "outputs": [
    {
     "data": {
      "text/plain": [
       "0.2463671504843828"
      ]
     },
     "execution_count": 11,
     "metadata": {},
     "output_type": "execute_result"
    }
   ],
   "source": [
    "thai_unigram_dict['อ'] * thai_unigram_dict['อ'] * thai_unigram_dict['อ']"
   ]
  },
  {
   "cell_type": "markdown",
   "metadata": {},
   "source": [
    "## 2. Eng unigram"
   ]
  },
  {
   "cell_type": "code",
   "execution_count": 12,
   "metadata": {},
   "outputs": [],
   "source": [
    "eng_unigrams = [ngrams(sent, 1) for sent in eng_all_lemma_names ]"
   ]
  },
  {
   "cell_type": "code",
   "execution_count": 13,
   "metadata": {},
   "outputs": [],
   "source": [
    "eng_unigram_counts = NgramCounter(eng_unigrams)"
   ]
  },
  {
   "cell_type": "code",
   "execution_count": 48,
   "metadata": {},
   "outputs": [],
   "source": [
    "list_eng_unigrams = [ char[0] for sent in eng_all_lemma_names for char in list(ngrams(sent, 1, pad_left=True, pad_right=True)) ]"
   ]
  },
  {
   "cell_type": "code",
   "execution_count": 49,
   "metadata": {},
   "outputs": [],
   "source": [
    "eng_unigram_dict = {}\n",
    "for char in list_eng_unigrams:\n",
    "    percent = int(eng_unigram_counts[char])/len(eng_unigrams)\n",
    "    eng_unigram_dict[char] = e**(log(percent))"
   ]
  },
  {
   "cell_type": "code",
   "execution_count": 51,
   "metadata": {},
   "outputs": [
    {
     "data": {
      "text/plain": [
       "{'.': 0.0040935196122357555,\n",
       " '2': 0.0010250770504935305,\n",
       " '-': 0.05196665444720515,\n",
       " 'c': 0.4924782425698886,\n",
       " 'a': 1.036013468562041,\n",
       " 'l': 0.6260912658004426,\n",
       " 'i': 0.8989111102059658,\n",
       " 'b': 0.20721491317393725,\n",
       " 'e': 1.162002905516408,\n",
       " 'r': 0.7954937341316715,\n",
       " '_': 0.5186414674215578,\n",
       " '3': 0.0006584932046216719,\n",
       " '8': 0.0005906073072379944,\n",
       " '4': 0.0007331676917437174,\n",
       " '5': 0.0007128019225286144,\n",
       " '0': 0.00114727166578415,\n",
       " '1': 0.0018600735883127645,\n",
       " 'm': 0.34052923845600314,\n",
       " 'd': 0.35465629370154644,\n",
       " 't': 0.7008540045890866,\n",
       " 'h': 0.2999131060513489,\n",
       " 's': 0.6865572346000842,\n",
       " '6': 0.0005091442303775817,\n",
       " '7': 0.0004887784611624781,\n",
       " '9': 0.0005159328201159492,\n",
       " 'n': 0.743133341479641,\n",
       " 'o': 0.7524065550622514,\n",
       " 'k': 0.09947320543630266,\n",
       " 'y': 0.2120755434266086,\n",
       " 'p': 0.32493584782697243,\n",
       " 'u': 0.4143483632710141,\n",
       " 'f': 0.16680243846143403,\n",
       " 'w': 0.09909304441095407,\n",
       " 'x': 0.03362388497413547,\n",
       " 'v': 0.10564403350847894,\n",
       " 'g': 0.2732271597898253,\n",
       " 'j': 0.025260342416466405,\n",
       " 'z': 0.029863006259079748,\n",
       " 'q': 0.01576989396222829,\n",
       " \"'\": 0.008845532429093179,\n",
       " '/': 0.00010861743581388408}"
      ]
     },
     "execution_count": 51,
     "metadata": {},
     "output_type": "execute_result"
    }
   ],
   "source": [
    "eng_unigram_dict"
   ]
  },
  {
   "cell_type": "code",
   "execution_count": 18,
   "metadata": {},
   "outputs": [],
   "source": [
    "unigram_eng = open('unigram_eng.pickle', 'ab')\n",
    "pickle.dump(eng_unigram_dict, unigram_eng)\n",
    "unigram_tha.close()"
   ]
  },
  {
   "cell_type": "markdown",
   "metadata": {},
   "source": [
    "# Bigram"
   ]
  },
  {
   "cell_type": "markdown",
   "metadata": {},
   "source": [
    "## 1. Thai bigrams"
   ]
  },
  {
   "cell_type": "code",
   "execution_count": 19,
   "metadata": {},
   "outputs": [],
   "source": [
    "thai_bigrams = [bigrams(sent) for sent in thai_all_lemma_names ]"
   ]
  },
  {
   "cell_type": "code",
   "execution_count": 20,
   "metadata": {
    "scrolled": true
   },
   "outputs": [],
   "source": [
    "list_thai_bigrams = [ char for sent in thai_all_lemma_names for char in list(ngrams(sent, 2), pad_left=True, pad_right=True) ]"
   ]
  },
  {
   "cell_type": "code",
   "execution_count": 21,
   "metadata": {},
   "outputs": [],
   "source": [
    "fdist = FreqDist(list_thai_bigrams)"
   ]
  },
  {
   "cell_type": "code",
   "execution_count": 24,
   "metadata": {},
   "outputs": [],
   "source": [
    "thai_bigram = {}\n",
    "for bigram in list_thai_bigrams:\n",
    "    percent = fdist[bigram]/len(list_thai_bigrams)\n",
    "    thai_bigram[bigram] = e**(log(percent))\n",
    "#     thai_bigram[bigram] = percent"
   ]
  },
  {
   "cell_type": "code",
   "execution_count": 25,
   "metadata": {},
   "outputs": [
    {
     "data": {
      "text/plain": [
       "0.009359419348036125"
      ]
     },
     "execution_count": 25,
     "metadata": {},
     "output_type": "execute_result"
    }
   ],
   "source": [
    "thai_bigram[('ก', 'า')]"
   ]
  },
  {
   "cell_type": "code",
   "execution_count": 36,
   "metadata": {},
   "outputs": [],
   "source": [
    "bigram_thai = open('bigram_thai_jet.pickle', 'ab')\n",
    "pickle.dump(thai_bigram, bigram_thai)\n",
    "unigram_tha.close()"
   ]
  },
  {
   "cell_type": "markdown",
   "metadata": {},
   "source": [
    "## 2. Eng bigrams"
   ]
  },
  {
   "cell_type": "code",
   "execution_count": 38,
   "metadata": {},
   "outputs": [],
   "source": [
    "eng_bigrams = [bigrams(sent) for sent in eng_all_lemma_names ]"
   ]
  },
  {
   "cell_type": "code",
   "execution_count": 39,
   "metadata": {},
   "outputs": [],
   "source": [
    "list_eng_bigrams = [ char for sent in eng_all_lemma_names for char in list(ngrams(sent, 2)) ]"
   ]
  },
  {
   "cell_type": "code",
   "execution_count": 40,
   "metadata": {},
   "outputs": [],
   "source": [
    "fdist_eng = FreqDist(list_eng_bigrams)"
   ]
  },
  {
   "cell_type": "code",
   "execution_count": 41,
   "metadata": {},
   "outputs": [],
   "source": [
    "eng_bigram = {}\n",
    "for bigram in list_eng_bigrams:\n",
    "    percent = fdist_eng[bigram]/len(list_eng_bigrams)\n",
    "    eng_bigram[bigram] = e**(log(percent))"
   ]
  },
  {
   "cell_type": "code",
   "execution_count": 42,
   "metadata": {},
   "outputs": [],
   "source": [
    "bigram_eng = open('bigram_eng_jet.pickle', 'ab')\n",
    "pickle.dump(eng_bigram, bigram_eng)\n",
    "unigram_tha.close()"
   ]
  },
  {
   "cell_type": "markdown",
   "metadata": {},
   "source": [
    "# Trigrams"
   ]
  },
  {
   "cell_type": "markdown",
   "metadata": {},
   "source": [
    "1. Thai Trigrams"
   ]
  },
  {
   "cell_type": "code",
   "execution_count": 41,
   "metadata": {},
   "outputs": [
    {
     "data": {
      "text/plain": [
       "'ค่าจำนอง'"
      ]
     },
     "execution_count": 41,
     "metadata": {},
     "output_type": "execute_result"
    }
   ],
   "source": [
    "thai_all_lemma_names[0]"
   ]
  },
  {
   "cell_type": "code",
   "execution_count": 43,
   "metadata": {},
   "outputs": [
    {
     "name": "stdin",
     "output_type": "stream",
     "text": [
      "ngram value =  2\n"
     ]
    },
    {
     "name": "stdout",
     "output_type": "stream",
     "text": [
      "('Hi', 'How')\n",
      "('How', 'are')\n",
      "('are', 'you?')\n",
      "('you?', 'i')\n",
      "('i', 'am')\n",
      "('am', 'fine')\n",
      "('fine', 'and')\n",
      "('and', 'you')\n"
     ]
    }
   ],
   "source": [
    "from nltk.util import ngrams\n",
    "\n",
    "text = \"Hi How are you? i am fine and you\"\n",
    "\n",
    "n = int(input(\"ngram value = \"))\n",
    "\n",
    "n_grams = ngrams(text.split(), n)\n",
    "\n",
    "for grams in n_grams :\n",
    "\n",
    "   print(grams)"
   ]
  },
  {
   "cell_type": "code",
   "execution_count": 44,
   "metadata": {},
   "outputs": [
    {
     "data": {
      "text/plain": [
       "['Hi', 'How', 'are', 'you?', 'i', 'am', 'fine', 'and', 'you']"
      ]
     },
     "execution_count": 44,
     "metadata": {},
     "output_type": "execute_result"
    }
   ],
   "source": [
    "text.split()"
   ]
  },
  {
   "cell_type": "code",
   "execution_count": 47,
   "metadata": {},
   "outputs": [
    {
     "data": {
      "text/plain": [
       "0.009359419348036125"
      ]
     },
     "execution_count": 47,
     "metadata": {},
     "output_type": "execute_result"
    }
   ],
   "source": [
    "e**(log(0.009359419348036125))"
   ]
  },
  {
   "cell_type": "code",
   "execution_count": null,
   "metadata": {},
   "outputs": [],
   "source": []
  }
 ],
 "metadata": {
  "kernelspec": {
   "display_name": "Python 3.7.5 64-bit ('NLP': conda)",
   "language": "python",
   "name": "python37564bitnlpcondae71441629d68476b8ab8fd18fb52de04"
  },
  "language_info": {
   "codemirror_mode": {
    "name": "ipython",
    "version": 3
   },
   "file_extension": ".py",
   "mimetype": "text/x-python",
   "name": "python",
   "nbconvert_exporter": "python",
   "pygments_lexer": "ipython3",
   "version": "3.7.6"
  }
 },
 "nbformat": 4,
 "nbformat_minor": 4
}
