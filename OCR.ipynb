{
 "cells": [
  {
   "cell_type": "code",
   "execution_count": 1,
   "metadata": {},
   "outputs": [],
   "source": [
    "import cv2\n",
    "import glob\n",
    "import pytesseract\n",
    "import numpy as np\n",
    "import dateutil\n",
    "from pythainlp.spell import correct\n",
    "pytesseract.pytesseract.tesseract_cmd = r'C:\\Program Files\\Tesseract-OCR\\tesseract.exe'"
   ]
  },
  {
   "cell_type": "code",
   "execution_count": 2,
   "metadata": {},
   "outputs": [
    {
     "data": {
      "text/plain": [
       "'การพางพิเศษแห่งประเทศไทย'"
      ]
     },
     "execution_count": 2,
     "metadata": {},
     "output_type": "execute_result"
    }
   ],
   "source": [
    "correct('การพางพิเศษแห่งประเทศไทย')"
   ]
  },
  {
   "cell_type": "code",
   "execution_count": 11,
   "metadata": {},
   "outputs": [],
   "source": [
    "path_to_files = r'C:\\Users\\jetsu\\Desktop\\Ztrus\\#1\\*.jpg'\n",
    "images = [cv2.imread(file) for file in glob.glob(path_to_files)]"
   ]
  },
  {
   "cell_type": "code",
   "execution_count": 12,
   "metadata": {},
   "outputs": [],
   "source": [
    "custom_config = r'-l --oem 1 -c preserve_interword_spaces=1'"
   ]
  },
  {
   "cell_type": "code",
   "execution_count": 13,
   "metadata": {},
   "outputs": [
    {
     "ename": "TesseractError",
     "evalue": "(1, 'Error opening data file C:\\\\Program Files\\\\Tesseract-OCR/tessdata/--oem.traineddata Please make sure the TESSDATA_PREFIX environment variable is set to your \"tessdata\" directory. Failed loading language \\'--oem\\' Tesseract couldn\\'t load any languages! Could not initialize tesseract.')",
     "output_type": "error",
     "traceback": [
      "\u001b[1;31m---------------------------------------------------------------------------\u001b[0m",
      "\u001b[1;31mTesseractError\u001b[0m                            Traceback (most recent call last)",
      "\u001b[1;32m<ipython-input-13-ba0e444f82d4>\u001b[0m in \u001b[0;36m<module>\u001b[1;34m\u001b[0m\n\u001b[1;32m----> 1\u001b[1;33m \u001b[0mtext_all\u001b[0m \u001b[1;33m=\u001b[0m \u001b[1;33m[\u001b[0m\u001b[1;33m(\u001b[0m\u001b[0mpytesseract\u001b[0m\u001b[1;33m.\u001b[0m\u001b[0mimage_to_string\u001b[0m\u001b[1;33m(\u001b[0m\u001b[0mimg\u001b[0m\u001b[1;33m,\u001b[0m \u001b[0mlang\u001b[0m\u001b[1;33m=\u001b[0m\u001b[1;34m'tha+eng'\u001b[0m\u001b[1;33m,\u001b[0m\u001b[0mconfig\u001b[0m\u001b[1;33m=\u001b[0m\u001b[0mcustom_config\u001b[0m\u001b[1;33m)\u001b[0m\u001b[1;33m)\u001b[0m \u001b[1;32mfor\u001b[0m \u001b[0mimg\u001b[0m \u001b[1;32min\u001b[0m \u001b[0mimages\u001b[0m\u001b[1;33m]\u001b[0m\u001b[1;33m\u001b[0m\u001b[1;33m\u001b[0m\u001b[0m\n\u001b[0m",
      "\u001b[1;32m<ipython-input-13-ba0e444f82d4>\u001b[0m in \u001b[0;36m<listcomp>\u001b[1;34m(.0)\u001b[0m\n\u001b[1;32m----> 1\u001b[1;33m \u001b[0mtext_all\u001b[0m \u001b[1;33m=\u001b[0m \u001b[1;33m[\u001b[0m\u001b[1;33m(\u001b[0m\u001b[0mpytesseract\u001b[0m\u001b[1;33m.\u001b[0m\u001b[0mimage_to_string\u001b[0m\u001b[1;33m(\u001b[0m\u001b[0mimg\u001b[0m\u001b[1;33m,\u001b[0m \u001b[0mlang\u001b[0m\u001b[1;33m=\u001b[0m\u001b[1;34m'tha+eng'\u001b[0m\u001b[1;33m,\u001b[0m\u001b[0mconfig\u001b[0m\u001b[1;33m=\u001b[0m\u001b[0mcustom_config\u001b[0m\u001b[1;33m)\u001b[0m\u001b[1;33m)\u001b[0m \u001b[1;32mfor\u001b[0m \u001b[0mimg\u001b[0m \u001b[1;32min\u001b[0m \u001b[0mimages\u001b[0m\u001b[1;33m]\u001b[0m\u001b[1;33m\u001b[0m\u001b[1;33m\u001b[0m\u001b[0m\n\u001b[0m",
      "\u001b[1;32m~\\AppData\\Local\\Continuum\\anaconda3\\envs\\NLP\\lib\\site-packages\\pytesseract\\pytesseract.py\u001b[0m in \u001b[0;36mimage_to_string\u001b[1;34m(image, lang, config, nice, output_type, timeout)\u001b[0m\n\u001b[0;32m    348\u001b[0m         \u001b[0mOutput\u001b[0m\u001b[1;33m.\u001b[0m\u001b[0mDICT\u001b[0m\u001b[1;33m:\u001b[0m \u001b[1;32mlambda\u001b[0m\u001b[1;33m:\u001b[0m \u001b[1;33m{\u001b[0m\u001b[1;34m'text'\u001b[0m\u001b[1;33m:\u001b[0m \u001b[0mrun_and_get_output\u001b[0m\u001b[1;33m(\u001b[0m\u001b[1;33m*\u001b[0m\u001b[0margs\u001b[0m\u001b[1;33m)\u001b[0m\u001b[1;33m}\u001b[0m\u001b[1;33m,\u001b[0m\u001b[1;33m\u001b[0m\u001b[1;33m\u001b[0m\u001b[0m\n\u001b[0;32m    349\u001b[0m         \u001b[0mOutput\u001b[0m\u001b[1;33m.\u001b[0m\u001b[0mSTRING\u001b[0m\u001b[1;33m:\u001b[0m \u001b[1;32mlambda\u001b[0m\u001b[1;33m:\u001b[0m \u001b[0mrun_and_get_output\u001b[0m\u001b[1;33m(\u001b[0m\u001b[1;33m*\u001b[0m\u001b[0margs\u001b[0m\u001b[1;33m)\u001b[0m\u001b[1;33m,\u001b[0m\u001b[1;33m\u001b[0m\u001b[1;33m\u001b[0m\u001b[0m\n\u001b[1;32m--> 350\u001b[1;33m     }[output_type]()\n\u001b[0m\u001b[0;32m    351\u001b[0m \u001b[1;33m\u001b[0m\u001b[0m\n\u001b[0;32m    352\u001b[0m \u001b[1;33m\u001b[0m\u001b[0m\n",
      "\u001b[1;32m~\\AppData\\Local\\Continuum\\anaconda3\\envs\\NLP\\lib\\site-packages\\pytesseract\\pytesseract.py\u001b[0m in \u001b[0;36m<lambda>\u001b[1;34m()\u001b[0m\n\u001b[0;32m    347\u001b[0m         \u001b[0mOutput\u001b[0m\u001b[1;33m.\u001b[0m\u001b[0mBYTES\u001b[0m\u001b[1;33m:\u001b[0m \u001b[1;32mlambda\u001b[0m\u001b[1;33m:\u001b[0m \u001b[0mrun_and_get_output\u001b[0m\u001b[1;33m(\u001b[0m\u001b[1;33m*\u001b[0m\u001b[1;33m(\u001b[0m\u001b[0margs\u001b[0m \u001b[1;33m+\u001b[0m \u001b[1;33m[\u001b[0m\u001b[1;32mTrue\u001b[0m\u001b[1;33m]\u001b[0m\u001b[1;33m)\u001b[0m\u001b[1;33m)\u001b[0m\u001b[1;33m,\u001b[0m\u001b[1;33m\u001b[0m\u001b[1;33m\u001b[0m\u001b[0m\n\u001b[0;32m    348\u001b[0m         \u001b[0mOutput\u001b[0m\u001b[1;33m.\u001b[0m\u001b[0mDICT\u001b[0m\u001b[1;33m:\u001b[0m \u001b[1;32mlambda\u001b[0m\u001b[1;33m:\u001b[0m \u001b[1;33m{\u001b[0m\u001b[1;34m'text'\u001b[0m\u001b[1;33m:\u001b[0m \u001b[0mrun_and_get_output\u001b[0m\u001b[1;33m(\u001b[0m\u001b[1;33m*\u001b[0m\u001b[0margs\u001b[0m\u001b[1;33m)\u001b[0m\u001b[1;33m}\u001b[0m\u001b[1;33m,\u001b[0m\u001b[1;33m\u001b[0m\u001b[1;33m\u001b[0m\u001b[0m\n\u001b[1;32m--> 349\u001b[1;33m         \u001b[0mOutput\u001b[0m\u001b[1;33m.\u001b[0m\u001b[0mSTRING\u001b[0m\u001b[1;33m:\u001b[0m \u001b[1;32mlambda\u001b[0m\u001b[1;33m:\u001b[0m \u001b[0mrun_and_get_output\u001b[0m\u001b[1;33m(\u001b[0m\u001b[1;33m*\u001b[0m\u001b[0margs\u001b[0m\u001b[1;33m)\u001b[0m\u001b[1;33m,\u001b[0m\u001b[1;33m\u001b[0m\u001b[1;33m\u001b[0m\u001b[0m\n\u001b[0m\u001b[0;32m    350\u001b[0m     }[output_type]()\n\u001b[0;32m    351\u001b[0m \u001b[1;33m\u001b[0m\u001b[0m\n",
      "\u001b[1;32m~\\AppData\\Local\\Continuum\\anaconda3\\envs\\NLP\\lib\\site-packages\\pytesseract\\pytesseract.py\u001b[0m in \u001b[0;36mrun_and_get_output\u001b[1;34m(image, extension, lang, config, nice, timeout, return_bytes)\u001b[0m\n\u001b[0;32m    258\u001b[0m         }\n\u001b[0;32m    259\u001b[0m \u001b[1;33m\u001b[0m\u001b[0m\n\u001b[1;32m--> 260\u001b[1;33m         \u001b[0mrun_tesseract\u001b[0m\u001b[1;33m(\u001b[0m\u001b[1;33m**\u001b[0m\u001b[0mkwargs\u001b[0m\u001b[1;33m)\u001b[0m\u001b[1;33m\u001b[0m\u001b[1;33m\u001b[0m\u001b[0m\n\u001b[0m\u001b[0;32m    261\u001b[0m         \u001b[0mfilename\u001b[0m \u001b[1;33m=\u001b[0m \u001b[0mkwargs\u001b[0m\u001b[1;33m[\u001b[0m\u001b[1;34m'output_filename_base'\u001b[0m\u001b[1;33m]\u001b[0m \u001b[1;33m+\u001b[0m \u001b[0mextsep\u001b[0m \u001b[1;33m+\u001b[0m \u001b[0mextension\u001b[0m\u001b[1;33m\u001b[0m\u001b[1;33m\u001b[0m\u001b[0m\n\u001b[0;32m    262\u001b[0m         \u001b[1;32mwith\u001b[0m \u001b[0mopen\u001b[0m\u001b[1;33m(\u001b[0m\u001b[0mfilename\u001b[0m\u001b[1;33m,\u001b[0m \u001b[1;34m'rb'\u001b[0m\u001b[1;33m)\u001b[0m \u001b[1;32mas\u001b[0m \u001b[0moutput_file\u001b[0m\u001b[1;33m:\u001b[0m\u001b[1;33m\u001b[0m\u001b[1;33m\u001b[0m\u001b[0m\n",
      "\u001b[1;32m~\\AppData\\Local\\Continuum\\anaconda3\\envs\\NLP\\lib\\site-packages\\pytesseract\\pytesseract.py\u001b[0m in \u001b[0;36mrun_tesseract\u001b[1;34m(input_filename, output_filename_base, extension, lang, config, nice, timeout)\u001b[0m\n\u001b[0;32m    234\u001b[0m     \u001b[1;32mwith\u001b[0m \u001b[0mtimeout_manager\u001b[0m\u001b[1;33m(\u001b[0m\u001b[0mproc\u001b[0m\u001b[1;33m,\u001b[0m \u001b[0mtimeout\u001b[0m\u001b[1;33m)\u001b[0m \u001b[1;32mas\u001b[0m \u001b[0merror_string\u001b[0m\u001b[1;33m:\u001b[0m\u001b[1;33m\u001b[0m\u001b[1;33m\u001b[0m\u001b[0m\n\u001b[0;32m    235\u001b[0m         \u001b[1;32mif\u001b[0m \u001b[0mproc\u001b[0m\u001b[1;33m.\u001b[0m\u001b[0mreturncode\u001b[0m\u001b[1;33m:\u001b[0m\u001b[1;33m\u001b[0m\u001b[1;33m\u001b[0m\u001b[0m\n\u001b[1;32m--> 236\u001b[1;33m             \u001b[1;32mraise\u001b[0m \u001b[0mTesseractError\u001b[0m\u001b[1;33m(\u001b[0m\u001b[0mproc\u001b[0m\u001b[1;33m.\u001b[0m\u001b[0mreturncode\u001b[0m\u001b[1;33m,\u001b[0m \u001b[0mget_errors\u001b[0m\u001b[1;33m(\u001b[0m\u001b[0merror_string\u001b[0m\u001b[1;33m)\u001b[0m\u001b[1;33m)\u001b[0m\u001b[1;33m\u001b[0m\u001b[1;33m\u001b[0m\u001b[0m\n\u001b[0m\u001b[0;32m    237\u001b[0m \u001b[1;33m\u001b[0m\u001b[0m\n\u001b[0;32m    238\u001b[0m \u001b[1;33m\u001b[0m\u001b[0m\n",
      "\u001b[1;31mTesseractError\u001b[0m: (1, 'Error opening data file C:\\\\Program Files\\\\Tesseract-OCR/tessdata/--oem.traineddata Please make sure the TESSDATA_PREFIX environment variable is set to your \"tessdata\" directory. Failed loading language \\'--oem\\' Tesseract couldn\\'t load any languages! Could not initialize tesseract.')"
     ]
    }
   ],
   "source": [
    "text_all = [(pytesseract.image_to_string(img, lang='tha+eng',config=custom_config)) for img in images]"
   ]
  },
  {
   "cell_type": "markdown",
   "metadata": {},
   "source": [
    "# 1.jpg"
   ]
  },
  {
   "cell_type": "code",
   "execution_count": 10,
   "metadata": {},
   "outputs": [
    {
     "data": {
      "text/plain": [
       "[]"
      ]
     },
     "execution_count": 10,
     "metadata": {},
     "output_type": "execute_result"
    }
   ],
   "source": [
    "text_all"
   ]
  },
  {
   "cell_type": "code",
   "execution_count": null,
   "metadata": {},
   "outputs": [],
   "source": [
    "text_1 = [text.strip() for text in text_all[0].split() if text != \"\" and text !=\" \"]\n",
    "text_1"
   ]
  },
  {
   "cell_type": "code",
   "execution_count": 8,
   "metadata": {},
   "outputs": [
    {
     "data": {
      "text/plain": [
       "['การพางพิเศษแห่งประเทศไทย',\n",
       " 'โพร',\n",
       " '0',\n",
       " '2579',\n",
       " '5380-9',\n",
       " 'เลยประจําตัวผู้เสียภาษีอากร',\n",
       " '999-4-00016542-1',\n",
       " 'ใบรับค่าผ่านพางพิเศษ',\n",
       " 'สายมางพณี-สุขสวัสดิ์',\n",
       " 'การทางพิเศษแห่งประเทศไทย',\n",
       " 'เล่มที่',\n",
       " 'Book',\n",
       " 'No',\n",
       " 'เลขที่',\n",
       " 'Receipt',\n",
       " 'Running',\n",
       " 'No',\n",
       " '21',\n",
       " '9497',\n",
       " '15/11/2016',\n",
       " '07:36:03',\n",
       " 'ค่านทางเข้า',\n",
       " 'Entry',\n",
       " 'Plaza',\n",
       " 'KBW1_N1',\n",
       " 'ด่านทางออก-ช่องทางที่',\n",
       " 'Exit',\n",
       " 'Plaza-l.ane',\n",
       " 'KBT2_X1-MX03',\n",
       " 'ประเภทรถ',\n",
       " '2',\n",
       " 'lass',\n",
       " '1',\n",
       " 'บาท(รวมภาษีมูลค่าเพิ่ม)',\n",
       " 'Baht',\n",
       " '(Vat',\n",
       " 'Include)',\n",
       " '40.00',\n",
       " 'เเรีะเงินสําหรับ',\n",
       " '”',\n",
       " 'Payment',\n",
       " 'For',\n",
       " 'TOLLFARE',\n",
       " 'กรูณาทําสําเนาเกื่อนําไปใช้ในธุระกรรมต่อไป']"
      ]
     },
     "execution_count": 8,
     "metadata": {},
     "output_type": "execute_result"
    }
   ],
   "source": [
    "text_1 = [text.strip() for text in text_all[0].split() if text != \"\" and text !=\" \"]\n",
    "text_1"
   ]
  },
  {
   "cell_type": "code",
   "execution_count": 94,
   "metadata": {},
   "outputs": [
    {
     "name": "stdout",
     "output_type": "stream",
     "text": [
      "check 15/11/2016\n",
      "[()]\n"
     ]
    }
   ],
   "source": [
    "date = check_date(text_1)\n",
    "print(date)"
   ]
  },
  {
   "cell_type": "markdown",
   "metadata": {},
   "source": [
    "# 2.jpg"
   ]
  },
  {
   "cell_type": "code",
   "execution_count": 10,
   "metadata": {},
   "outputs": [
    {
     "data": {
      "text/plain": [
       "['PURCHASE',\n",
       " 'ORDER',\n",
       " '231119012731',\n",
       " 'ay',\n",
       " '‘',\n",
       " 'Page',\n",
       " '1',\n",
       " 'of',\n",
       " '2',\n",
       " 'krungsri',\n",
       " 'Congumce',\n",
       " 'A',\n",
       " 'member',\n",
       " 'of',\n",
       " '@)',\n",
       " 'MUFG',\n",
       " 'a',\n",
       " 'ญะนัน่',\n",
       " 'financial',\n",
       " 'green.',\n",
       " 'Ayudhya',\n",
       " 'Capital',\n",
       " 'Services',\n",
       " 'Co.,Ltd.',\n",
       " ':',\n",
       " 'Date',\n",
       " 'of',\n",
       " 'Issue',\n",
       " ':',\n",
       " '17-DEC-2019',\n",
       " 'Contact/Phone',\n",
       " ':',\n",
       " 'Sutikarn',\n",
       " 'Koythong',\n",
       " '550',\n",
       " 'Krungsri',\n",
       " 'Ploenchit',\n",
       " 'Tower',\n",
       " 'Tel.',\n",
       " '02-627-4523',\n",
       " 'Revision',\n",
       " '#',\n",
       " '0',\n",
       " 'Buyer/Phone',\n",
       " ':',\n",
       " '!',\n",
       " 'ล|ลทล',\n",
       " 'Sermsawat',\n",
       " 'Ploenchit',\n",
       " 'Road,',\n",
       " 'Lumphini,',\n",
       " 'Pathumwan',\n",
       " 'Revision',\n",
       " 'Date',\n",
       " ':',\n",
       " 'Tel.',\n",
       " '026278627',\n",
       " 'Bangkok',\n",
       " '10330',\n",
       " 'Registration',\n",
       " 'Number',\n",
       " '0105537133562',\n",
       " 'Head',\n",
       " 'Office',\n",
       " 'Supplier:',\n",
       " 'PP',\n",
       " 'ORGANIZE',\n",
       " '2015',\n",
       " 'CO.,',\n",
       " 'LTD.',\n",
       " 'DeliveryTo:',\n",
       " 'Ayudhya',\n",
       " 'Capital',\n",
       " 'Services',\n",
       " 'Co.,',\n",
       " 'Ltd.',\n",
       " '(18',\n",
       " 'FI.,-',\n",
       " 'KFC)',\n",
       " '80',\n",
       " 'PITAKPANOMKET',\n",
       " 'ROAD',\n",
       " 'MUKDAHAN',\n",
       " 'SUB-',\n",
       " '-',\n",
       " 'DISTRICT',\n",
       " 'MUANG',\n",
       " 'MUKDAHAN',\n",
       " 'DISTRICT',\n",
       " 'MUKDAHAN',\n",
       " '49000',\n",
       " 'Tax',\n",
       " 'Registration',\n",
       " 'Number',\n",
       " '0495558000071',\n",
       " 'Branch',\n",
       " 'Number',\n",
       " '00000',\n",
       " 'Tel.',\n",
       " '081',\n",
       " '0761881',\n",
       " 'Cont.',\n",
       " 'Currency',\n",
       " '18',\n",
       " 'DEC',\n",
       " '201',\n",
       " 'ซะ๒๒',\n",
       " 'บอฟ',\n",
       " '0120-BKK2(KO)-Premises',\n",
       " ':',\n",
       " 'Office',\n",
       " 'Rental',\n",
       " 'for',\n",
       " 'Mini',\n",
       " 'Kiosk',\n",
       " 'Unit',\n",
       " '93,000.00',\n",
       " 'LT',\n",
       " 'Rama',\n",
       " '1',\n",
       " 'on',\n",
       " 'Jan’',\n",
       " '20',\n",
       " 'B45',\n",
       " '2311.RB3.0000.',\n",
       " '75312.',\n",
       " '1952100940:',\n",
       " '00000.',\n",
       " '00000.00000.0000.00.000.',\n",
       " 'pap,',\n",
       " '0000000000.00000',\n",
       " '1',\n",
       " 'A',\n",
       " '0220-BKK2(KO)-Premises',\n",
       " ':',\n",
       " 'Office',\n",
       " 'Rental',\n",
       " 'for',\n",
       " 'Mini',\n",
       " 'Kiosk',\n",
       " '|',\n",
       " 'Unit',\n",
       " '87,000.00',\n",
       " 'LT',\n",
       " 'Rama',\n",
       " '1',\n",
       " 'on',\n",
       " \"Feb'20\",\n",
       " '2311.RB3.0000.75312.5654010200.00000.00000.00000.0000.00.000.P2P.0000000000.00000',\n",
       " 'DELIVER',\n",
       " 'TO:',\n",
       " 'Piroonpakorn',\n",
       " 'Keerakulkumtorn',\n",
       " 'Tel.',\n",
       " '02-627-4668',\n",
       " 'PR',\n",
       " 'No.',\n",
       " '131119013771',\n",
       " 'a',\n",
       " 'ee',\n",
       " '180,000.00',\n",
       " '(All',\n",
       " 'prices',\n",
       " 'and',\n",
       " 'amounts',\n",
       " 'in',\n",
       " 'this',\n",
       " 'order',\n",
       " 'are',\n",
       " 'subject',\n",
       " 'to',\n",
       " 'VAT',\n",
       " 'as',\n",
       " 'applicable',\n",
       " 'and',\n",
       " 'expressed',\n",
       " 'in',\n",
       " 'BAHT)',\n",
       " 'รริรรไส',\n",
       " 'ท',\n",
       " 'One',\n",
       " 'hundred',\n",
       " 'eighty',\n",
       " 'thousand',\n",
       " 'Baht',\n",
       " 'And',\n",
       " 'zero',\n",
       " 'Satang',\n",
       " 'Grand',\n",
       " 'Total',\n",
       " '180,000.00',\n",
       " 'Remark',\n",
       " 'This',\n",
       " 'order',\n",
       " 'expressly',\n",
       " 'limits',\n",
       " 'acceptance',\n",
       " 'to',\n",
       " 'the',\n",
       " 'terms',\n",
       " 'stated',\n",
       " 'on',\n",
       " 'the',\n",
       " 'face',\n",
       " 'of',\n",
       " 'this',\n",
       " 'form',\n",
       " 'and',\n",
       " 'the',\n",
       " 'terms',\n",
       " 'and',\n",
       " 'conditions',\n",
       " 'attached',\n",
       " 'hereto.',\n",
       " 'L_plan',\n",
       " 'on',\n",
       " '(',\n",
       " 'Lalana',\n",
       " 'Sermsawat',\n",
       " ')',\n",
       " 'Approved',\n",
       " 'By',\n",
       " '.',\n",
       " '(Buyer)']"
      ]
     },
     "execution_count": 10,
     "metadata": {},
     "output_type": "execute_result"
    }
   ],
   "source": [
    "text_2 = [text.strip() for text in text_all[1].split() if text != \"\" and text !=\" \"]\n",
    "text_2"
   ]
  },
  {
   "cell_type": "code",
   "execution_count": 74,
   "metadata": {},
   "outputs": [
    {
     "name": "stdout",
     "output_type": "stream",
     "text": [
      "check 17-DEC-2019\n",
      "This is Date : 2019-12-17 00:00:00\n",
      "-----------------------\n"
     ]
    }
   ],
   "source": [
    "check_date(text_2)"
   ]
  },
  {
   "cell_type": "markdown",
   "metadata": {},
   "source": [
    "# 3.jpg"
   ]
  },
  {
   "cell_type": "code",
   "execution_count": 12,
   "metadata": {
    "scrolled": true
   },
   "outputs": [],
   "source": [
    "# print(text_all[2])"
   ]
  },
  {
   "cell_type": "code",
   "execution_count": 13,
   "metadata": {
    "scrolled": true
   },
   "outputs": [
    {
     "data": {
      "text/plain": [
       "['วันที่',\n",
       " '12/08/19',\n",
       " 'TAP.',\n",
       " 'PROMPTPAY',\n",
       " '13/05/29',\n",
       " 'FEE',\n",
       " 'OTM',\n",
       " 'BAK',\n",
       " 'ATH',\n",
       " '13/09/19',\n",
       " 'CASH',\n",
       " 'ATM',\n",
       " 'W/D']"
      ]
     },
     "execution_count": 13,
     "metadata": {},
     "output_type": "execute_result"
    }
   ],
   "source": [
    "text_3 = [text.strip() for text in text_all[2].split() if text != \"\" and text !=\" \"]\n",
    "text_3"
   ]
  },
  {
   "cell_type": "code",
   "execution_count": 75,
   "metadata": {},
   "outputs": [
    {
     "name": "stdout",
     "output_type": "stream",
     "text": [
      "check 12/08/19\n",
      "This is Date : 2019-12-08 00:00:00\n",
      "-----------------------\n",
      "check 13/05/29\n",
      "This is Date : 2029-05-13 00:00:00\n",
      "-----------------------\n",
      "check 13/09/19\n",
      "This is Date : 2019-09-13 00:00:00\n",
      "-----------------------\n"
     ]
    }
   ],
   "source": [
    "check_date(text_3)"
   ]
  },
  {
   "cell_type": "markdown",
   "metadata": {},
   "source": [
    "# 4.jpg"
   ]
  },
  {
   "cell_type": "code",
   "execution_count": 15,
   "metadata": {},
   "outputs": [],
   "source": [
    "# print(text_all[3])"
   ]
  },
  {
   "cell_type": "code",
   "execution_count": 16,
   "metadata": {},
   "outputs": [
    {
     "data": {
      "text/plain": [
       "['บิลเงินสุดแนกัวกับภูาปี่เหณ',\n",
       " 'ต้นฉบับ',\n",
       " 'ดูฏถั้ว,,',\n",
       " '622',\n",
       " 'ถนนสุขุมวิท',\n",
       " 'แขวงคลองตัน',\n",
       " 'เขตคลองเตย',\n",
       " 'เรตีบํารับตา',\n",
       " '28/11/2016',\n",
       " 'กรุงเทพฯ',\n",
       " '10110',\n",
       " 'โทร.',\n",
       " '(02)269-1000',\n",
       " 'กล',\n",
       " '1',\n",
       " 'of',\n",
       " '|',\n",
       " '4,',\n",
       " ';',\n",
       " 'หน้าที่',\n",
       " 'iy',\n",
       " 'บริษัท',\n",
       " 'บัตรกรุงไทย',\n",
       " 'จํากัด',\n",
       " '(มหาซน)',\n",
       " 'สํานักงานใหญ่',\n",
       " ':',\n",
       " ':',\n",
       " '=',\n",
       " 'เลขที่',\n",
       " '591',\n",
       " 'อาคารสมัชชซาวาณิช',\n",
       " '2',\n",
       " 'ชั้น14',\n",
       " 'ถนนลสุขุมวิท',\n",
       " 'เลขประจําตักผู้เสียภาษีอากิว',\n",
       " '๓56',\n",
       " '0016253',\n",
       " 'ที่อยู่',\n",
       " 'แขวงคลองต้นเหนือ',\n",
       " 'เขตวัฒนา',\n",
       " 'กรุงเทพมหานคร',\n",
       " '10110',\n",
       " 'โทร.',\n",
       " '028285000',\n",
       " 'เลขประจําตัวผู้เสียภาษี',\n",
       " ':',\n",
       " '0107545000110',\n",
       " 'วันที่ใบกํากับภาษี',\n",
       " 'เวลา',\n",
       " 'ลําดับเครื่องเก็บเงิน',\n",
       " 'หมายเลขเครื่องเก็บเงิน',\n",
       " 'ลําดับรายการ',\n",
       " 'พนักงานเก็บเงิน',\n",
       " '28/11/2016',\n",
       " '20:15:47',\n",
       " '01103',\n",
       " '(02)C13331',\n",
       " '1100082',\n",
       " '38134',\n",
       " '119',\n",
       " 'รหัสสินค้า',\n",
       " 'รายการสินค้า',\n",
       " 'จํานวนสินค้า',\n",
       " 'ราคาต่อหน่วย',\n",
       " 'จํานวนเงิน',\n",
       " 'ประเภทภาษี',\n",
       " '*',\n",
       " '69025',\n",
       " '1040667',\n",
       " '\"PAR\"JM',\n",
       " 'L4RRO10000',\n",
       " 'ENGLISH',\n",
       " 'PEAR&FREESIA',\n",
       " 'B',\n",
       " '10f',\n",
       " '1',\n",
       " '990.00',\n",
       " '990.00',\n",
       " '*',\n",
       " '690251020201',\n",
       " '\"PAR\"JM',\n",
       " 'L2A6010000',\n",
       " 'HOME',\n",
       " 'CANDLE',\n",
       " 'ENGLISH',\n",
       " 'PEAR',\n",
       " '4',\n",
       " '2,493.00',\n",
       " '2,493.00',\n",
       " 'SUBTOTAL',\n",
       " 'NORMAL',\n",
       " 'PRICE',\n",
       " '0.00',\n",
       " '0.00',\n",
       " 'ส่วนลดคูปอง',\n",
       " 'SUBTOTAL',\n",
       " 'PROMOTION',\n",
       " 'PRICE',\n",
       " '3,483.00',\n",
       " '4',\n",
       " '0.00',\n",
       " 'ควนลด',\n",
       " '0.00',\n",
       " 'ว',\n",
       " ';',\n",
       " '0.00',\n",
       " 'เงินมัดจํา',\n",
       " ')',\n",
       " 'มูลค่าสินค้าที่ยกเว้นภาษีมูลค่าเพิ่ม',\n",
       " '3,483,00',\n",
       " '3,483.00',\n",
       " 'มูลค่าสินค้ารวมภาษีมูลค่าเพิ่ม',\n",
       " '3',\n",
       " '255.14',\n",
       " 'รวมเงินทั้งสิ้น',\n",
       " '(บาท)',\n",
       " 'มูลค่าสินค้าที่เสียภาษีมูลค่าเพิ่ม',\n",
       " '+',\n",
       " 'ae',\n",
       " '(',\n",
       " 'สามพันสีร้อยแปดสิบ',\n",
       " 'he',\n",
       " 'อ',\n",
       " 'อ่',\n",
       " 'ภาษีมูลค่าเพิ่ม',\n",
       " 'สินค้าซื้อแล้วไม่รับคืน',\n",
       " '(๑๐๐อร',\n",
       " 'PURCHASED',\n",
       " 'ARE',\n",
       " 'NOT',\n",
       " 'RETURNABLE)',\n",
       " 'ลายเซ็น',\n",
       " '(ผู้รับเงิน)',\n",
       " '“BAG',\n",
       " '“AOS',\n",
       " 'P2.02',\n",
       " 'A',\n",
       " 'บ',\n",
       " '๑7',\n",
       " '”',\n",
       " '~',\n",
       " 'บิลเงินสด',\n",
       " 'บกํากับภาษี',\n",
       " 'ตนฉบบ',\n",
       " 'กคา',\n",
       " 'บริษัท',\n",
       " 'ซิติมอลล์',\n",
       " 'กรุ๊ป',\n",
       " 'จํากัด',\n",
       " 'สํานักงานใหญ่',\n",
       " 'เลขที่ใบกํากับภาษี',\n",
       " '0',\n",
       " '0000289781',\n",
       " 'อ',\n",
       " '822',\n",
       " 'ถนนสุขุมวิท',\n",
       " 'แขวงคล',\n",
       " 'ee',\n",
       " '0',\n",
       " 'ง่',\n",
       " 'องตัน',\n",
       " 'เขตคลองเตย',\n",
       " 'พิมพ์',\n",
       " 'ณ',\n",
       " 'วันที่',\n",
       " '18/11/2016',\n",
       " 'กรุงเทพฯ',\n",
       " '10110',\n",
       " 'โทร.',\n",
       " '(02)269-1000',\n",
       " '1',\n",
       " 'of',\n",
       " '1',\n",
       " 'หน้าที่',\n",
       " 'ชื่อลูกค้า',\n",
       " 'บริษัท',\n",
       " 'บัตรกรงไทย',\n",
       " 'จํากัด',\n",
       " '(',\n",
       " 'มหาชน',\n",
       " ')',\n",
       " 'สํานักงานใหญ่',\n",
       " 'a',\n",
       " 'เลขประจําตัวผู้เสียภาษีอากร',\n",
       " 'ที่อย',\n",
       " '591',\n",
       " 'อาคารสมซชซาวาณิช',\n",
       " '2',\n",
       " 'ซัน',\n",
       " '14',\n",
       " 'ถนนลุขุมวิท',\n",
       " 'แขวงคลองตันเหนือ',\n",
       " '0105540016253',\n",
       " 'เขตวัฒนา',\n",
       " 'กรงเทพมหานคร',\n",
       " '10110',\n",
       " 'โทร.',\n",
       " '028855000',\n",
       " 'เลขประจําตัวผู้เสียภาษี',\n",
       " ':',\n",
       " '01075450001',\n",
       " '10',\n",
       " '«',\n",
       " 'ad',\n",
       " 'ow',\n",
       " 'at',\n",
       " 'ow',\n",
       " '๕',\n",
       " 'a',\n",
       " '๕',\n",
       " '«a',\n",
       " 'ow',\n",
       " '“',\n",
       " 'sc',\n",
       " '=-',\n",
       " 'วันที่ใบกํากับภาษี',\n",
       " 'เวลา',\n",
       " 'ลําดับเครื่องเก็บเงิน',\n",
       " 'หมายเลขเครื่องเก็บเงิน',\n",
       " 'ลําดับรายการ',\n",
       " 'พนักงานเก็บเงิน',\n",
       " '18/11/2016',\n",
       " '11:04:14',\n",
       " '03407',\n",
       " '(02)C',\n",
       " '1333411100106',\n",
       " '50756',\n",
       " '304',\n",
       " 'รหัสสินค้า',\n",
       " 'รายการสินค้า',\n",
       " 'จํานวนสินค้า',\n",
       " 'ราคาต่อหน่วย',\n",
       " 'จํานวนเงิน',\n",
       " 'ประเภทภาษี',\n",
       " '*',\n",
       " '22798824',\n",
       " 'เทป',\n",
       " 'CD',\n",
       " 'VCD',\n",
       " 'GRAMOPHONE',\n",
       " '1',\n",
       " '4,066.00',\n",
       " '1,066.00',\n",
       " 'SUBTOTAL',\n",
       " 'NORMAL',\n",
       " 'PRICE',\n",
       " '6.00',\n",
       " 'ส่วนลดคูปอง',\n",
       " '0.00',\n",
       " 'SUBTOTAL',\n",
       " 'PROMOTION',\n",
       " 'PRICE',\n",
       " '4,066.00',\n",
       " 'ส่วนลด',\n",
       " '0,00',\n",
       " '|',\n",
       " 'เงินมัดจํา',\n",
       " '0.00',\n",
       " 'มูลค่าสินค้าที่ยกเจ้นภาษีมูลค่าเพิ่ม',\n",
       " '0.00',\n",
       " 'มูลค่าสินค้ารวมภาษีมูลค่าเพิ่ม',\n",
       " '1,066.00',\n",
       " 'รวมเงินทั้งสิ้น',\n",
       " '(บาท)',\n",
       " '1,066.00',\n",
       " 'มูลค่าสินค้าที่เลียภาษีมูลค่าเพิ่ม',\n",
       " 'ชาควอ',\n",
       " 'does',\n",
       " 'บ',\n",
       " ')',\n",
       " 'ภาษีมูลค่าเพิ่ม',\n",
       " '7%',\n",
       " '80.74',\n",
       " 'ie',\n",
       " 'หนงพนหกสบหกบาทถวน',\n",
       " 'สินค้าซื้อแล้วไม่รับคืน',\n",
       " '(GOODS',\n",
       " 'PURCHASED',\n",
       " 'ARE',\n",
       " 'NOT',\n",
       " 'RETURNABLE)',\n",
       " 'ลายเซ็น',\n",
       " '(ผู้รับเงิน)',\n",
       " '......',\n",
       " 'BAC',\n",
       " ':',\n",
       " 'A08',\n",
       " 'P2',\n",
       " '02']"
      ]
     },
     "execution_count": 16,
     "metadata": {},
     "output_type": "execute_result"
    }
   ],
   "source": [
    "text_4 = [text.strip() for text in text_all[3].split() if text != \"\" and text !=\" \"]\n",
    "text_4"
   ]
  },
  {
   "cell_type": "code",
   "execution_count": 76,
   "metadata": {},
   "outputs": [
    {
     "name": "stdout",
     "output_type": "stream",
     "text": [
      "check 28/11/2016\n",
      "This is Date : 2016-11-28 00:00:00\n",
      "-----------------------\n",
      "check 28/11/2016\n",
      "This is Date : 2016-11-28 00:00:00\n",
      "-----------------------\n",
      "check 18/11/2016\n",
      "This is Date : 2016-11-18 00:00:00\n",
      "-----------------------\n",
      "check 18/11/2016\n",
      "This is Date : 2016-11-18 00:00:00\n",
      "-----------------------\n"
     ]
    }
   ],
   "source": [
    "check_date(text_4)"
   ]
  },
  {
   "cell_type": "markdown",
   "metadata": {},
   "source": [
    "## ลองทำกับ image ดูบ้าง"
   ]
  },
  {
   "cell_type": "code",
   "execution_count": 87,
   "metadata": {},
   "outputs": [],
   "source": [
    "img_2 = cv2.imread('2.jpg')"
   ]
  },
  {
   "cell_type": "code",
   "execution_count": 90,
   "metadata": {},
   "outputs": [
    {
     "data": {
      "text/plain": [
       "\"PURCHASE ORDER 231119012731\\n\\nay\\n\\n‘                                                                                                                                                               Page 1 of 2\\nkrungsri\\n\\nCongumce\\n\\n \\n\\nA member of @) MUFG\\na ญะนัน่ financial green.\\n\\nAyudhya Capital Services Co.,Ltd.               :           Date of Issue : 17-DEC-2019                  Contact/Phone : Sutikarn Koythong\\n550 Krungsri Ploenchit Tower                                                                                                        Tel. 02-627-4523\\n\\nRevision # 0                                       Buyer/Phone : ! ล|ลทล Sermsawat\\n\\nPloenchit Road, Lumphini, Pathumwan\\nRevision Date :                                                   Tel. 026278627\\n\\n \\n\\nBangkok 10330\\nRegistration Number 0105537133562\\n\\nHead Office\\n\\nSupplier: PP ORGANIZE 2015 CO., LTD.                             DeliveryTo: Ayudhya Capital Services Co., Ltd. (18 FI.,- KFC)\\n80 PITAKPANOMKET ROAD MUKDAHAN SUB-                            -\\nDISTRICT MUANG MUKDAHAN DISTRICT\\nMUKDAHAN 49000\\nTax Registration Number 0495558000071\\nBranch Number 00000\\nTel. 081 0761881 Cont.\\n\\nCurrency                  18 DEC 201\\nซะ๒๒   บอฟ\\n\\n0120-BKK2(KO)-Premises : Office Rental for Mini Kiosk                         Unit                     93,000.00\\nLT Rama 1 on Jan’ 20         B45\\n2311.RB3.0000. 75312. 1952100940: 00000. 00000.00000.0000.00.000. pap, 0000000000.00000\\n\\n1\\nA\\n\\n0220-BKK2(KO)-Premises : Office Rental for Mini Kiosk                 |     Unit                   87,000.00\\nLT Rama 1 on Feb'20\\n2311.RB3.0000.75312.5654010200.00000.00000.00000.0000.00.000.P2P.0000000000.00000\\n\\nDELIVER TO:      Piroonpakorn Keerakulkumtorn Tel. 02-627-4668\\nPR No. 131119013771\\n\\na ee      180,000.00\\n(All prices and amounts in this order are subject to VAT as applicable and expressed in BAHT)  รริรรไส ท\\nOne hundred eighty thousand Baht And zero Satang                            Grand Total                          180,000.00\\n\\nRemark\\n\\n \\n\\nThis order expressly limits acceptance to the terms stated on the face of this form and the terms and conditions attached hereto.\\n\\nL_plan   on\\n\\n( Lalana Sermsawat )\\n\\nApproved By .                                                 (Buyer)\""
      ]
     },
     "execution_count": 90,
     "metadata": {},
     "output_type": "execute_result"
    }
   ],
   "source": [
    "pytesseract.image_to_string(img_2, lang='eng',config=custom_config)"
   ]
  },
  {
   "cell_type": "code",
   "execution_count": 19,
   "metadata": {},
   "outputs": [],
   "source": [
    "def get_grayscale(image):\n",
    "    return cv2.cvtColor(image, cv2.COLOR_BGR2GRAY)"
   ]
  },
  {
   "cell_type": "code",
   "execution_count": 105,
   "metadata": {},
   "outputs": [],
   "source": [
    "def remove_noise(image):\n",
    "    return cv2.medianBlur(image,3)"
   ]
  },
  {
   "cell_type": "code",
   "execution_count": 21,
   "metadata": {},
   "outputs": [],
   "source": [
    "def thresholding(image):\n",
    "    return cv2.threshold(image, 0, 255, cv2.THRESH_BINARY + cv2.THRESH_OTSU)[1]"
   ]
  },
  {
   "cell_type": "code",
   "execution_count": 22,
   "metadata": {},
   "outputs": [],
   "source": [
    "def dilate(image):\n",
    "    kernel = np.ones((5,5),np.uint8)\n",
    "    return cv2.dilate(image, kernel, iterations = 1)"
   ]
  },
  {
   "cell_type": "code",
   "execution_count": 23,
   "metadata": {},
   "outputs": [],
   "source": [
    "def erode(image):\n",
    "    kernel = np.ones((5,5),np.uint8)\n",
    "    return cv2.erode(image, kernel, iterations = 1)"
   ]
  },
  {
   "cell_type": "code",
   "execution_count": 24,
   "metadata": {},
   "outputs": [],
   "source": [
    "#opening - erosion followed by dilation\n",
    "def opening(image):\n",
    "    kernel = np.ones((5,5),np.uint8)\n",
    "    return cv2.morphologyEx(image, cv2.MORPH_OPEN, kernel)"
   ]
  },
  {
   "cell_type": "code",
   "execution_count": 25,
   "metadata": {},
   "outputs": [],
   "source": [
    "#canny edge detection\n",
    "def canny(image):\n",
    "    return cv2.Canny(image, 100, 200)"
   ]
  },
  {
   "cell_type": "code",
   "execution_count": 26,
   "metadata": {},
   "outputs": [],
   "source": [
    "gray = get_grayscale(img_1)"
   ]
  },
  {
   "cell_type": "code",
   "execution_count": 27,
   "metadata": {},
   "outputs": [],
   "source": [
    "thresh = thresholding(gray)"
   ]
  },
  {
   "cell_type": "code",
   "execution_count": 96,
   "metadata": {},
   "outputs": [
    {
     "data": {
      "text/plain": [
       "(datetime.datetime(1981, 3, 31, 0, 0), ())"
      ]
     },
     "execution_count": 96,
     "metadata": {},
     "output_type": "execute_result"
    }
   ],
   "source": [
    "dte = dateutil.parser.parse('03-31-1981', fuzzy_with_tokens=True)\n",
    "dte"
   ]
  },
  {
   "cell_type": "code",
   "execution_count": 107,
   "metadata": {},
   "outputs": [
    {
     "name": "stdout",
     "output_type": "stream",
     "text": [
      "dict_keys(['level', 'page_num', 'block_num', 'par_num', 'line_num', 'word_num', 'left', 'top', 'width', 'height', 'conf', 'text'])\n"
     ]
    }
   ],
   "source": [
    "import cv2\n",
    "import pytesseract\n",
    "from pytesseract import Output\n",
    "\n",
    "\n",
    "\n",
    "d = pytesseract.image_to_data(img, output_type=Output.DICT)\n",
    "print(d.keys())"
   ]
  },
  {
   "cell_type": "code",
   "execution_count": 114,
   "metadata": {},
   "outputs": [],
   "source": [
    "img = cv2.imread('2.jpg')"
   ]
  },
  {
   "cell_type": "code",
   "execution_count": 115,
   "metadata": {},
   "outputs": [
    {
     "data": {
      "text/plain": [
       "119"
      ]
     },
     "execution_count": 115,
     "metadata": {},
     "output_type": "execute_result"
    }
   ],
   "source": [
    "n_boxes = len(d['text'])\n",
    "for i in range(n_boxes):\n",
    "    if int(d['conf'][i]) > 60:\n",
    "        (x, y, w, h) = (d['left'][i], d['top'][i], d['width'][i], d['height'][i])\n",
    "        img = cv2.rectangle(img, (x, y), (x + w, y + h), (0, 255, 0), 2)\n",
    "\n",
    "img = cv2.resize(img, (1200, 800))  \n",
    "cv2.imshow('img', img)\n",
    "cv2.waitKey(0)"
   ]
  }
 ],
 "metadata": {
  "kernelspec": {
   "display_name": "Python 3.7.5 64-bit ('NLP': conda)",
   "language": "python",
   "name": "python37564bitnlpcondae71441629d68476b8ab8fd18fb52de04"
  },
  "language_info": {
   "codemirror_mode": {
    "name": "ipython",
    "version": 3
   },
   "file_extension": ".py",
   "mimetype": "text/x-python",
   "name": "python",
   "nbconvert_exporter": "python",
   "pygments_lexer": "ipython3",
   "version": "3.7.6"
  }
 },
 "nbformat": 4,
 "nbformat_minor": 4
}
